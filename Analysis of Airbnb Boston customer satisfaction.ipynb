{
 "cells": [
  {
   "cell_type": "markdown",
   "id": "431d8611",
   "metadata": {},
   "source": [
    "# Business Understanding\n",
    "\n",
    "Airbnb is an online platform that connects travellers looking for accommodation to hosts of spaces available for rent.\n",
    "Airbnb is an American vacation rental online marketplace company based in San Francisco, California. Airbnb maintains and hosts \n",
    "a marketplace, accessible to consumers on its website or app. Users can arrange lodging, primarily homestays, and tourism \n",
    "experiences or list their spare rooms, properties, or part of it for rental. On the other hand, users who are traveling are \n",
    "looking for stays search properties and rooms by neighborhood or location. Airbnb recommends the best price in the neighborhood \n",
    "and users book the best deal.\n",
    "\n",
    "In this analysis, we will be using Boston Airbnb data. To analyse the customer reviews and understand customer satisfaction\n",
    "as well as any additional insights from the rewiew. This will allow us to understand customer preferences, and provide what\n",
    "customers want. In order to do so, we will be answering the following questions:\n",
    "    \n",
    "1. What type of properties are being booked the most?\n",
    "2. Is there a relation between the number of bookings of a place and the reviews score?\n",
    "3. Is there anything that bias the reviews of the users?\n",
    "4. How reviews for a given property changes through seasons?\n",
    "\n",
    "# Data Understanding\n",
    "\n",
    "In the selected dataset, we have 3 data file:\n",
    "    - listings\n",
    "    - reviews\n",
    "    - calendar\n",
    "We will go through the data in the below analyis to understand them better and use the appropriete one or ones for the rest of\n",
    "our analysis."
   ]
  },
  {
   "cell_type": "code",
   "execution_count": null,
   "id": "e7e81dbd",
   "metadata": {},
   "outputs": [],
   "source": [
    "#Import the necessary packages\n",
    "\n",
    "import numpy as np\n",
    "import pandas as pd\n",
    "#import matplotlib as mpl\n",
    "import matplotlib.pyplot as plt\n",
    "import matplotlib.dates as mdates\n",
    "import seaborn as sns\n",
    "import cartopy\n",
    "\n",
    "\n",
    "import warnings\n",
    "warnings.filterwarnings('ignore')\n",
    "\n",
    "%matplotlib inline\n",
    "#mpl.style.use('ggplot')"
   ]
  },
  {
   "cell_type": "markdown",
   "id": "9577af52",
   "metadata": {},
   "source": [
    "## Reading the 3 files into dataframes"
   ]
  },
  {
   "cell_type": "code",
   "execution_count": null,
   "id": "fee479c5",
   "metadata": {},
   "outputs": [],
   "source": [
    "listings = pd.read_csv(\"data/listings.csv\")\n",
    "calendar = pd.read_csv(\"data/calendar.csv\")\n",
    "reviews = pd.read_csv(\"data/reviews.csv\")"
   ]
  },
  {
   "cell_type": "markdown",
   "id": "a231d594",
   "metadata": {},
   "source": [
    "## Analysis and data preparation for the 3 files we have"
   ]
  },
  {
   "cell_type": "markdown",
   "id": "53ece039",
   "metadata": {},
   "source": [
    "### Lintings data"
   ]
  },
  {
   "cell_type": "code",
   "execution_count": null,
   "id": "68edd046",
   "metadata": {},
   "outputs": [],
   "source": [
    "listings.columns"
   ]
  },
  {
   "cell_type": "code",
   "execution_count": null,
   "id": "69e8fee9",
   "metadata": {},
   "outputs": [],
   "source": [
    "listings.shape"
   ]
  },
  {
   "cell_type": "code",
   "execution_count": null,
   "id": "c3d4b0cd",
   "metadata": {},
   "outputs": [],
   "source": [
    "listings.info()"
   ]
  },
  {
   "cell_type": "code",
   "execution_count": null,
   "id": "1199f953",
   "metadata": {},
   "outputs": [],
   "source": [
    "listings.describe()"
   ]
  },
  {
   "cell_type": "markdown",
   "id": "6ecf7e78",
   "metadata": {},
   "source": [
    "### Dealing with null values in the listings data"
   ]
  },
  {
   "cell_type": "code",
   "execution_count": null,
   "id": "bbbbbef5",
   "metadata": {},
   "outputs": [],
   "source": [
    "#list of column with more than 70% null value\n",
    "\n",
    "to_drop = [cols for cols in listings.columns.values if (listings[cols].isnull().sum()/len(listings)*100)>=70]"
   ]
  },
  {
   "cell_type": "code",
   "execution_count": null,
   "id": "181d681a",
   "metadata": {},
   "outputs": [],
   "source": [
    "#check the result\n",
    "to_drop"
   ]
  },
  {
   "cell_type": "markdown",
   "id": "7082bffb",
   "metadata": {},
   "source": [
    "We will drop thos colums with more than 70% null values as they are not usefull for our analysis\n",
    "The weekly_price and monthly_price can also be removed as we have the price column which is enough for our needs."
   ]
  },
  {
   "cell_type": "code",
   "execution_count": null,
   "id": "236caaf9",
   "metadata": {},
   "outputs": [],
   "source": [
    "#Drop columns with more than 70% null value\n",
    "listings.drop(to_drop,axis=1,inplace=True)"
   ]
  },
  {
   "cell_type": "code",
   "execution_count": null,
   "id": "845596a9",
   "metadata": {},
   "outputs": [],
   "source": [
    "#cehck if all columns with more than 70% null value has been removed\n",
    "[cols for cols in listings.columns.values if (listings[cols].isnull().sum()/len(listings)*100)>=70]"
   ]
  },
  {
   "cell_type": "markdown",
   "id": "240a3b17",
   "metadata": {},
   "source": [
    "Now we are dealing with the price colums."
   ]
  },
  {
   "cell_type": "code",
   "execution_count": null,
   "id": "10308515",
   "metadata": {},
   "outputs": [],
   "source": [
    "# List of all columns with price\n",
    "listings_price = listings[[x for x in listings.columns if 'price' in x]]"
   ]
  },
  {
   "cell_type": "code",
   "execution_count": null,
   "id": "124eb466",
   "metadata": {},
   "outputs": [],
   "source": [
    "listings_price.head()"
   ]
  },
  {
   "cell_type": "markdown",
   "id": "f901bf78",
   "metadata": {},
   "source": [
    "Let's change the type of the price column to float and remove the dollar($)sign"
   ]
  },
  {
   "cell_type": "code",
   "execution_count": null,
   "id": "67770541",
   "metadata": {},
   "outputs": [],
   "source": [
    "# change the type of the price column and remove the $ sign\n",
    "listings.price = listings.price.str.replace('$', '').str.replace(',', '').astype(float)"
   ]
  },
  {
   "cell_type": "code",
   "execution_count": null,
   "id": "dc93111d",
   "metadata": {},
   "outputs": [],
   "source": [
    "#check the changes\n",
    "listings.price.head()"
   ]
  },
  {
   "cell_type": "markdown",
   "id": "bc0ddeda",
   "metadata": {},
   "source": [
    "As our main focus on this analysis is the reviews, let's isolates all columns with reviews and see if we need to so any chansges"
   ]
  },
  {
   "cell_type": "code",
   "execution_count": null,
   "id": "9109652c",
   "metadata": {},
   "outputs": [],
   "source": [
    "#list of columns related to reviews\n",
    "listings_reviews = listings[[x for x in listings.columns if 'review' in x]]"
   ]
  },
  {
   "cell_type": "code",
   "execution_count": null,
   "id": "5ec0b0e8",
   "metadata": {},
   "outputs": [],
   "source": [
    "listings_reviews.describe()"
   ]
  },
  {
   "cell_type": "code",
   "execution_count": null,
   "id": "b73b5713",
   "metadata": {},
   "outputs": [],
   "source": [
    "listings_reviews.info()"
   ]
  },
  {
   "cell_type": "code",
   "execution_count": null,
   "id": "2fb51ce4",
   "metadata": {},
   "outputs": [],
   "source": [
    "listings_reviews.head()"
   ]
  },
  {
   "cell_type": "markdown",
   "id": "a46d70f0",
   "metadata": {},
   "source": [
    "In the listings_reviews we do have some rows with number of reviews equal zero(0). Those rows are not so usefull for our analysis. Therefore we will drop them."
   ]
  },
  {
   "cell_type": "code",
   "execution_count": null,
   "id": "b9fc2d2e",
   "metadata": {},
   "outputs": [],
   "source": [
    "# Grouping all rows without reviews\n",
    "to_drop1 = listings_reviews[listings_reviews['number_of_reviews'] == 0]"
   ]
  },
  {
   "cell_type": "code",
   "execution_count": null,
   "id": "bce765be",
   "metadata": {},
   "outputs": [],
   "source": [
    "to_drop1"
   ]
  },
  {
   "cell_type": "code",
   "execution_count": null,
   "id": "06712298",
   "metadata": {},
   "outputs": [],
   "source": [
    "# drop all rows without reviews\n",
    "listings.drop(to_drop1.index, inplace = True)"
   ]
  },
  {
   "cell_type": "markdown",
   "id": "e6cbe22c",
   "metadata": {},
   "source": [
    "Now, we will check if we have any other null reviews values."
   ]
  },
  {
   "cell_type": "code",
   "execution_count": null,
   "id": "18006bb4",
   "metadata": {},
   "outputs": [],
   "source": [
    "listings_reviews1 = listings[[x for x in listings.columns if 'review' in x]]"
   ]
  },
  {
   "cell_type": "code",
   "execution_count": null,
   "id": "9eef176b",
   "metadata": {},
   "outputs": [],
   "source": [
    "(listings_reviews1.isnull().sum()/len(listings_reviews1)*100).sort_values(ascending=False)"
   ]
  },
  {
   "cell_type": "markdown",
   "id": "103843dc",
   "metadata": {},
   "source": [
    "We still have some columns with null values. We will not drop those as they might be usefull to our analysis. \n",
    "We will fill those rows with the mean.\n",
    "We will be using the mean because in the listings_reviews.describe() we viewed few cells earlier. The smallest values in all those table where greater than 0. \n",
    "It will be more usefull to fill them with the mean."
   ]
  },
  {
   "cell_type": "code",
   "execution_count": null,
   "id": "efda854e",
   "metadata": {},
   "outputs": [],
   "source": [
    "# grouping all remaining reviews columns with null values\n",
    "tobe_filled = [cols for cols in listings_reviews1.columns.values if (listings_reviews1[cols].isnull().sum()/len(listings_reviews1)*100)>=2]"
   ]
  },
  {
   "cell_type": "code",
   "execution_count": null,
   "id": "826755b5",
   "metadata": {},
   "outputs": [],
   "source": [
    "tobe_filled"
   ]
  },
  {
   "cell_type": "code",
   "execution_count": null,
   "id": "1842f39f",
   "metadata": {},
   "outputs": [],
   "source": [
    "# Fill the null vlaues with the mean\n",
    "listings[tobe_filled] = listings[tobe_filled].fillna(value=round(listings[tobe_filled].mean()))"
   ]
  },
  {
   "cell_type": "markdown",
   "id": "9bcf5cce",
   "metadata": {},
   "source": [
    "### Let's analyse the calendar data we have"
   ]
  },
  {
   "cell_type": "code",
   "execution_count": null,
   "id": "1adc0105",
   "metadata": {},
   "outputs": [],
   "source": [
    "#Analyse and prepare the calendar data"
   ]
  },
  {
   "cell_type": "code",
   "execution_count": null,
   "id": "aaf066de",
   "metadata": {},
   "outputs": [],
   "source": [
    "calendar.info()"
   ]
  },
  {
   "cell_type": "code",
   "execution_count": null,
   "id": "f74d423c",
   "metadata": {},
   "outputs": [],
   "source": [
    "calendar.describe()"
   ]
  },
  {
   "cell_type": "code",
   "execution_count": null,
   "id": "698e38bf",
   "metadata": {},
   "outputs": [],
   "source": [
    "calendar.head()"
   ]
  },
  {
   "cell_type": "markdown",
   "id": "675a5b03",
   "metadata": {},
   "source": [
    "The calendar data does not contain usefull information to our analysis. We will not comtinue ivestigating it further."
   ]
  },
  {
   "cell_type": "markdown",
   "id": "938a5197",
   "metadata": {},
   "source": [
    "### Analysing the revilews data"
   ]
  },
  {
   "cell_type": "code",
   "execution_count": null,
   "id": "234665e4",
   "metadata": {},
   "outputs": [],
   "source": [
    "reviews.columns"
   ]
  },
  {
   "cell_type": "code",
   "execution_count": null,
   "id": "6f728706",
   "metadata": {},
   "outputs": [],
   "source": [
    "reviews.info()"
   ]
  },
  {
   "cell_type": "code",
   "execution_count": null,
   "id": "b4aae5c0",
   "metadata": {},
   "outputs": [],
   "source": [
    "reviews.head()"
   ]
  },
  {
   "cell_type": "code",
   "execution_count": null,
   "id": "11924691",
   "metadata": {},
   "outputs": [],
   "source": [
    "# We need to change the date column to a datetime \n",
    "reviews['date'] = pd.to_datetime(reviews.date) "
   ]
  },
  {
   "cell_type": "code",
   "execution_count": null,
   "id": "0cbeaa12",
   "metadata": {},
   "outputs": [],
   "source": [
    "# Let's add month and year and yearmonth column to the reviews dataset for easy plotting\n",
    "reviews['month'], reviews['year'], reviews['yearmonth'] = reviews.date.dt.month, reviews.date.dt.year, reviews.date.dt.to_period(\"M\")\n",
    "reviews.info(verbose=True, null_counts=True)"
   ]
  },
  {
   "cell_type": "code",
   "execution_count": null,
   "id": "f6a0b68d",
   "metadata": {},
   "outputs": [],
   "source": [
    "reviews.head(10)"
   ]
  },
  {
   "cell_type": "code",
   "execution_count": null,
   "id": "1e95a24d",
   "metadata": {},
   "outputs": [],
   "source": [
    "# Now, we will check for missing values in the reviews data\n",
    "\n",
    "(reviews.isnull().sum()/len(reviews)*100).sort_values(ascending=False)"
   ]
  },
  {
   "cell_type": "markdown",
   "id": "483c6665",
   "metadata": {},
   "source": [
    "We do not have much null values. The few null values lies in the comments row which is not usesd in our analysis. We do not have more prosessing to do with the reviews data."
   ]
  },
  {
   "cell_type": "markdown",
   "id": "510a660e",
   "metadata": {},
   "source": [
    "# Now we will start our analysis on the data"
   ]
  },
  {
   "cell_type": "markdown",
   "id": "495c5f44",
   "metadata": {},
   "source": [
    "Let's begin by listing the type of property that are the most listed."
   ]
  },
  {
   "cell_type": "code",
   "execution_count": null,
   "id": "76fe7e6c",
   "metadata": {},
   "outputs": [],
   "source": [
    "#Analyzing and plotting the number of listings based on their property type\n",
    "\n",
    "propertytype = listings[['host_listings_count', 'property_type']].sort_values(by = 'host_listings_count', ascending=False)\n",
    "\n",
    "propertytype.groupby(['property_type'])['host_listings_count'].count().sort_values(ascending=False).plot(kind='bar', \n",
    "           x='property_type',\n",
    "           y='Number_Of_Listings',\n",
    "           figsize =(15,8), \n",
    "           title = 'boston Property Type listing Frequency', \n",
    "           legend = False)\n",
    "plt.ylabel('property type')\n",
    "plt.ylabel('Number of listings')"
   ]
  },
  {
   "cell_type": "markdown",
   "id": "56afb7d0",
   "metadata": {},
   "source": [
    "The most listed places we have in the dataset are in this order: Appartment, House, condominium."
   ]
  },
  {
   "cell_type": "code",
   "execution_count": null,
   "id": "935fb39d",
   "metadata": {},
   "outputs": [],
   "source": [
    "# Distribution of property types per neighbourhood\n",
    "\n",
    "listings.groupby(['neighbourhood','property_type'])['property_type'].count().unstack('property_type').plot.bar(stacked=True,figsize=(16,10))\n",
    "plt.ylabel('Nb property type')\n",
    "plt.title('Distribution of property types per neighbourhood')\n",
    "plt.legend(loc=3)"
   ]
  },
  {
   "cell_type": "code",
   "execution_count": null,
   "id": "6f75f422",
   "metadata": {},
   "outputs": [],
   "source": [
    "#Which neighborhood has the most listings?\n",
    "\n",
    "plt.figure(figsize=(14,6))\n",
    "listings.groupby(['neighbourhood'])['host_listings_count'].count().sort_values(ascending=False).plot(kind='bar')\n",
    "plt.title('Number of booking as per neighboarhood')\n",
    "plt.xlabel('Neighbourhood')\n",
    "plt.ylabel('nb bookings')"
   ]
  },
  {
   "cell_type": "code",
   "execution_count": null,
   "id": "106f4557",
   "metadata": {},
   "outputs": [],
   "source": [
    "#What are some most expensive property types in boston\n",
    "\n",
    "plt.figure(figsize=(14,6));\n",
    "listings.groupby(['property_type'])['price'].mean().sort_values(ascending=False).plot(kind='bar');\n",
    "plt.title('Property price as per Property Type');\n",
    "plt.xlabel('Property Type');\n",
    "plt.ylabel('$ Price');"
   ]
  },
  {
   "cell_type": "code",
   "execution_count": null,
   "id": "ccbd0548",
   "metadata": {},
   "outputs": [],
   "source": [
    "#What are the most and least expensive neighbourhoods in boston ?\n",
    "\n",
    "plt.figure(figsize=(14,6))\n",
    "listings.groupby(['neighbourhood'])['price'].mean().sort_values(ascending=False).plot(kind='bar')\n",
    "plt.title('price range')\n",
    "plt.xlabel('Neighbourhood')\n",
    "plt.ylabel('nb bookings')"
   ]
  },
  {
   "cell_type": "code",
   "execution_count": null,
   "id": "2e4c4f62",
   "metadata": {},
   "outputs": [],
   "source": [
    "#What are the most and least booked property types in boston?\n",
    "\n",
    "plt.figure(figsize=(14,6))\n",
    "listings.groupby(['property_type'])['calculated_host_listings_count'].mean().sort_values(ascending=False).plot(kind='bar')\n",
    "plt.title('Property number of booking as per Property Type')\n",
    "plt.xlabel('Property Type')\n",
    "plt.ylabel('nb bookings')"
   ]
  },
  {
   "cell_type": "code",
   "execution_count": null,
   "id": "3ca0d67c",
   "metadata": {},
   "outputs": [],
   "source": [
    "#Which neighborhoud has the most booking?\n",
    "\n",
    "plt.figure(figsize=(14,6))\n",
    "listings.groupby(['neighbourhood'])['calculated_host_listings_count'].count().sort_values(ascending=False).plot(kind='bar')\n",
    "plt.title('Number of booking as per neighboarhood')\n",
    "plt.xlabel('Neighbourhood')\n",
    "plt.ylabel('nb bookings')"
   ]
  },
  {
   "cell_type": "code",
   "execution_count": null,
   "id": "cf82c035",
   "metadata": {},
   "outputs": [],
   "source": [
    "#What are some most rated property types in boston?\n",
    "\n",
    "plt.figure(figsize=(14,6))\n",
    "listings.groupby(['property_type'])['number_of_reviews'].mean().sort_values(ascending=False).plot(kind='bar')\n",
    "plt.title('Number of reviews by Property type')\n",
    "plt.xlabel('Property Type')\n",
    "# plt.ylabel('number_of_reviews')"
   ]
  },
  {
   "cell_type": "code",
   "execution_count": null,
   "id": "c5c1ef0d",
   "metadata": {},
   "outputs": [],
   "source": [
    "#What are some best rated property types in boston?\n",
    "\n",
    "plt.figure(figsize=(14,6))\n",
    "listings.groupby(['property_type'])['review_scores_rating'].mean().sort_values(ascending=False).plot(kind='bar')\n",
    "plt.title('Review score per Property Type')\n",
    "plt.xlabel('Property Type')\n",
    "plt.ylabel('review_scores_rating')"
   ]
  },
  {
   "cell_type": "code",
   "execution_count": null,
   "id": "3ce00aa2",
   "metadata": {},
   "outputs": [],
   "source": [
    "#Which neighborhoud has the best ratings?\n",
    "\n",
    "plt.figure(figsize=(14,6))\n",
    "listings.groupby(['neighbourhood'])['review_scores_rating'].mean().sort_values(ascending=False).plot(kind='bar')\n",
    "plt.title('Review score per neighbourhood')\n",
    "plt.xlabel('Neighbourhood')\n",
    "plt.ylabel('review_scores_rating')"
   ]
  },
  {
   "cell_type": "markdown",
   "id": "2014eaa9",
   "metadata": {},
   "source": [
    "By comparing the ratings on the plots we did. We can notice there is not a lot of variation. All the ratings are hight from 80 to 100. \n",
    "Is this due to a bias on the customer side while rating?\n",
    "So customer rank hlight every property no mater the price and condition of the property?\n",
    "Those questions go beyond the scope of our analysis. In order to have a clear view on the rankings, we need to applied sentiment analysis methods to the comments on the properties."
   ]
  },
  {
   "cell_type": "markdown",
   "id": "05146d7b",
   "metadata": {},
   "source": [
    "### Analysing the relationship between price and number of reviews"
   ]
  },
  {
   "cell_type": "code",
   "execution_count": null,
   "id": "6487b834",
   "metadata": {},
   "outputs": [],
   "source": [
    "#Interpreting the relation between number of reviews and price\n",
    "\n",
    "price_review = listings[['number_of_reviews', 'price']].sort_values(by = 'price')\n",
    "\n",
    "price_review.plot(x = 'price', \n",
    "                  y = 'number_of_reviews', \n",
    "                  style = 'o',\n",
    "                  figsize =(17,10),\n",
    "                  legend = False,\n",
    "                  title = 'Reviews based on Price')\n",
    "\n",
    "plt.xlabel(\"price\")\n",
    "plt.ylabel(\"Number of reviews\")"
   ]
  },
  {
   "cell_type": "markdown",
   "id": "efad9307",
   "metadata": {},
   "source": [
    "From the graph, the reviews were most observed for the listings that have a price range around 100 - 400. The number quickly declines as the price goes up.\n",
    "Let's plot the data between the price range <=100 and see if we can have a clearer interpretation."
   ]
  },
  {
   "cell_type": "code",
   "execution_count": null,
   "id": "837c56fe",
   "metadata": {},
   "outputs": [],
   "source": [
    "#Interpreting the relation between number of reviews and price\n",
    "\n",
    "price_review = listings[['number_of_reviews', 'price']].sort_values(by = 'price')\n",
    "price_review1 = price_review[price_review['price'] <= 100]\n",
    "\n",
    "price_review1.plot(x = 'price', \n",
    "                  y = 'number_of_reviews', \n",
    "                  style = 'o',\n",
    "                  figsize =(17,10),\n",
    "                  legend = False,\n",
    "                  title = 'Reviews based on Price')\n",
    "\n",
    "plt.xlabel(\"price\")\n",
    "plt.ylabel(\"Number of reviews\")"
   ]
  },
  {
   "cell_type": "markdown",
   "id": "6a67ff2b",
   "metadata": {},
   "source": [
    "We can see that for a particular price the number of reviews is quite random, thus it is not showing any relationshitp between the price and the number of reviews.\n",
    "Lets group the data by price in order to have a better view of the accumulated number of reviews for a given price."
   ]
  },
  {
   "cell_type": "code",
   "execution_count": null,
   "id": "4a781167",
   "metadata": {},
   "outputs": [],
   "source": [
    "#Interpreting the relation between number of reviews and price\n",
    "\n",
    "price_review = listings[['number_of_reviews', 'price']].sort_values(by = 'price')\n",
    "\n",
    "price_review.groupby(['price'])['number_of_reviews'].count().plot(x = 'price', \n",
    "                  y = 'number_of_reviews', \n",
    "                  style = 'o',\n",
    "                  figsize =(17,10),\n",
    "                  legend = False,\n",
    "                  title = 'Reviews based on Price')\n",
    "\n",
    "plt.xlabel(\"price\")\n",
    "plt.ylabel(\"Number of reviews\")"
   ]
  },
  {
   "cell_type": "code",
   "execution_count": null,
   "id": "0d3d38c7",
   "metadata": {},
   "outputs": [],
   "source": [
    "#Interpreting the relation between number of reviews and price\n",
    "\n",
    "price_review = listings[['number_of_reviews', 'price']].sort_values(by = 'price')\n",
    "price_review1 = price_review[price_review['price'] <= 100]\n",
    "\n",
    "price_review1.groupby(['price'])['number_of_reviews'].count().plot(x = 'price', \n",
    "                  y = 'number_of_reviews', \n",
    "                  style = 'o',\n",
    "                  figsize =(17,10),\n",
    "                  legend = False,\n",
    "                  title = 'Reviews based on Price')\n",
    "\n",
    "plt.xlabel(\"price\")\n",
    "plt.ylabel(\"Number of reviews\")"
   ]
  },
  {
   "cell_type": "markdown",
   "id": "8f24f0b0",
   "metadata": {},
   "source": [
    "**This conclude, the price does not necessarly influence the number of reviews. It is usefull to note that expensive property types are booked less whish could explain why the review numbers are low.**\n",
    "\n",
    "This answers the question: Do users tend to give more reviews to expensive listings? \n",
    "\n",
    "The answer is not really, even though we see the number of reviews is greater for houses with a price lower or equal 400. Those number of reviews are very random per listings."
   ]
  },
  {
   "cell_type": "markdown",
   "id": "4a2c6bf6",
   "metadata": {},
   "source": [
    "### Analysing the relationship between the number of reviews and the review score"
   ]
  },
  {
   "cell_type": "code",
   "execution_count": null,
   "id": "dd0833e1",
   "metadata": {},
   "outputs": [],
   "source": [
    "#Interpreting the relation between number of reviews and review_scores_rating \n",
    "\n",
    "\n",
    "price_review = listings[['number_of_reviews', 'review_scores_rating']].sort_values(by = 'review_scores_rating')\n",
    "\n",
    "price_review.plot(x = 'review_scores_rating', \n",
    "                  y = 'number_of_reviews', \n",
    "                  style = 'o',\n",
    "                  figsize =(17,10),\n",
    "                  legend = False,\n",
    "                  title = 'Reviews based on review_scores_rating')\n",
    "\n",
    "plt.xlabel(\"review_scores_rating\")\n",
    "plt.ylabel(\"Number of reviews\")"
   ]
  },
  {
   "cell_type": "markdown",
   "id": "00ce1824",
   "metadata": {},
   "source": [
    "The majority of our data pooint is on the second half of the graph with the reviews score between 70 and 100. We can see a slight relationship between the number of reviews and the review score.\n",
    "Let's narrow down our view point to the review score between 70 to 100."
   ]
  },
  {
   "cell_type": "code",
   "execution_count": null,
   "id": "69325c2f",
   "metadata": {},
   "outputs": [],
   "source": [
    "#Interpreting the relation between number of reviews and review_scores_rating \n",
    "\n",
    "\n",
    "price_review = listings[['number_of_reviews', 'review_scores_rating']].sort_values(by = 'review_scores_rating')\n",
    "price_review1 = price_review[price_review['review_scores_rating'] >70 ]\n",
    "price_review1.plot(x = 'review_scores_rating', \n",
    "                  y = 'number_of_reviews', \n",
    "                  style = 'o',\n",
    "                  figsize =(17,10),\n",
    "                  legend = False,\n",
    "                  title = 'Reviews based on review_scores_rating')\n",
    "\n",
    "plt.xlabel(\"review_scores_rating\")\n",
    "plt.ylabel(\"Number of reviews\")"
   ]
  },
  {
   "cell_type": "markdown",
   "id": "0eb3af4e",
   "metadata": {},
   "source": [
    "There seems tobe a slight increase of the number of ratings as the review scores increase. Let's take a closer look by grouping the data by review scores."
   ]
  },
  {
   "cell_type": "code",
   "execution_count": null,
   "id": "af39738e",
   "metadata": {},
   "outputs": [],
   "source": [
    "#Interpreting the relation between number of reviews and review_scores_rating \n",
    "\n",
    "\n",
    "price_review = listings[['number_of_reviews', 'review_scores_rating']].sort_values(by = 'review_scores_rating')\n",
    "\n",
    "price_review.groupby(['review_scores_rating'])['number_of_reviews'].count().plot(x = 'review_scores_rating', \n",
    "                  y = 'number_of_reviews', \n",
    "                  style = 'o',\n",
    "                  figsize =(17,10),\n",
    "                  legend = False,\n",
    "                  title = 'Reviews based on review_scores_rating')\n",
    "\n",
    "plt.xlabel(\"review_scores_rating\")\n",
    "plt.ylabel(\"Number of reviews\")"
   ]
  },
  {
   "cell_type": "markdown",
   "id": "8fa4fecb",
   "metadata": {},
   "source": [
    "Rating a listing because of the amount of previews ratings might be a thling among the users from time to time, but there is no clear relationship as showned on the multiple graph. Therefore, there is no relationship between the number of reviews and the review score.\n",
    "\n",
    "This answers the question: Do users tend to rate a listing becsue it has multiple reviews in the past?\n",
    "\n",
    "The answer is no, although it might happen in few instenses."
   ]
  },
  {
   "cell_type": "markdown",
   "id": "c3476903",
   "metadata": {},
   "source": [
    "### Analysing the relationship between number of listilngs and the rating scores"
   ]
  },
  {
   "cell_type": "code",
   "execution_count": null,
   "id": "6393d88d",
   "metadata": {},
   "outputs": [],
   "source": [
    "#Interpreting the relation between number of reviews and number of listings\n",
    "\n",
    "price_review = listings[['host_listings_count', 'review_scores_rating']].sort_values(by = 'review_scores_rating')\n",
    "\n",
    "price_review.plot(x = 'review_scores_rating', \n",
    "                  y = 'host_listings_count', \n",
    "                  style = 'o',\n",
    "                  figsize =(17,10),\n",
    "                  legend = False,\n",
    "                  title = 'Reviews based on host_listings_count')\n",
    "\n",
    "plt.xlabel(\"review_scores_rating\")\n",
    "plt.ylabel(\"host_listings_count\")"
   ]
  },
  {
   "cell_type": "markdown",
   "id": "71036f17",
   "metadata": {},
   "source": [
    "The majority of the data point are located between revieww scores 70 and 100. let's narrow down the graph to those values."
   ]
  },
  {
   "cell_type": "code",
   "execution_count": null,
   "id": "0db3ef7f",
   "metadata": {},
   "outputs": [],
   "source": [
    "#Interpreting the relation between number of reviews and number of listings\n",
    "\n",
    "price_review = listings[['host_listings_count', 'review_scores_rating']].sort_values(by = 'review_scores_rating')\n",
    "price_review1 = price_review[price_review['review_scores_rating'] >70 ]\n",
    "\n",
    "price_review1.plot(x = 'review_scores_rating', \n",
    "                  y = 'host_listings_count', \n",
    "                  style = 'o',\n",
    "                  figsize =(17,10),\n",
    "                  legend = False,\n",
    "                  title = 'Reviews based on host_listings_count')\n",
    "\n",
    "plt.xlabel(\"review_scores_rating\")\n",
    "plt.ylabel(\"host_listings_count\")"
   ]
  },
  {
   "cell_type": "markdown",
   "id": "7c42ce50",
   "metadata": {},
   "source": [
    "Once again, there is no clear relationship between the numbe of reviews and the review scores. \n",
    "Let's group the data by review score if we can have a better view."
   ]
  },
  {
   "cell_type": "code",
   "execution_count": null,
   "id": "81262f5b",
   "metadata": {},
   "outputs": [],
   "source": [
    "#Interpreting the relation between number of reviews and number of listings\n",
    "\n",
    "price_review = listings[['host_listings_count', 'review_scores_rating']].sort_values(by = 'review_scores_rating')\n",
    "price_review1 = price_review[price_review['review_scores_rating'] >70 ]\n",
    "\n",
    "price_review1.groupby(['review_scores_rating'])['host_listings_count'].count().plot(x = 'review_scores_rating', \n",
    "                  y = 'host_listings_count', \n",
    "                  style = 'o',\n",
    "                  figsize =(17,10),\n",
    "                  legend = False,\n",
    "                  title = 'Reviews based on host_listings_count')\n",
    "\n",
    "plt.xlabel(\"review_scores_rating\")\n",
    "plt.ylabel(\"host_listings_count\")"
   ]
  },
  {
   "cell_type": "markdown",
   "id": "6693dcb4",
   "metadata": {},
   "source": [
    "We can see the begin of a relationship between the two values, but we cannot conclude on a relationship as it is not consistent. There is no relationship between the number of listings and the review scores.\n",
    "\n",
    "These answers the question: Is there a relation between the number of bookings of a place and the reviews score?  \n",
    "\n",
    "The answer is no, even though on few occasion it is true. Overall it is not sustainable. Because a place has been listed multiple times does not mean it will always have a good rating."
   ]
  },
  {
   "cell_type": "markdown",
   "id": "be6129c5",
   "metadata": {},
   "source": [
    "### Let's analyse the reviews per year and moths to see when users are most likely to give reviews"
   ]
  },
  {
   "cell_type": "code",
   "execution_count": null,
   "id": "9552ca48",
   "metadata": {},
   "outputs": [],
   "source": [
    "# grouping the reviews by year\n",
    "reviews_per_year = pd.DataFrame(reviews.groupby(['year'])['listing_id'].count())"
   ]
  },
  {
   "cell_type": "code",
   "execution_count": null,
   "id": "e52e6301",
   "metadata": {},
   "outputs": [],
   "source": [
    "# adapting the indexing\n",
    "reviews_per_year.rename(columns = {'listing_id': 'listing_count'}, inplace = True)\n",
    "reviews_per_year.reset_index(inplace=True)"
   ]
  },
  {
   "cell_type": "code",
   "execution_count": null,
   "id": "4c5999d3",
   "metadata": {},
   "outputs": [],
   "source": [
    "# overview of the output\n",
    "reviews_per_year.head(20)"
   ]
  },
  {
   "cell_type": "code",
   "execution_count": null,
   "id": "badbb3cb",
   "metadata": {},
   "outputs": [],
   "source": [
    "# ploting the number of reviews against the year\n",
    "fig, ax = plt.subplots()\n",
    "plt.scatter(reviews_per_year['year'], reviews_per_year['listing_count'])\n",
    "plt.show()"
   ]
  },
  {
   "cell_type": "markdown",
   "id": "2f346bb8",
   "metadata": {},
   "source": [
    "We cna see in the plot above the number of reviews has increased a lot since 2009 and 1016.\n",
    "Let's see below how the number of reviews increased throughout the months."
   ]
  },
  {
   "cell_type": "code",
   "execution_count": null,
   "id": "7cb8be74",
   "metadata": {},
   "outputs": [],
   "source": [
    "reviews_per_yearmonth = pd.DataFrame(reviews.groupby(['yearmonth'])['listing_id'].count())"
   ]
  },
  {
   "cell_type": "code",
   "execution_count": null,
   "id": "d3750720",
   "metadata": {},
   "outputs": [],
   "source": [
    "reviews_per_yearmonth.rename(columns = {'listing_id': 'listing_count'}, inplace = True)\n",
    "reviews_per_yearmonth.reset_index(inplace=True)"
   ]
  },
  {
   "cell_type": "code",
   "execution_count": null,
   "id": "9a0aa498",
   "metadata": {},
   "outputs": [],
   "source": [
    "reviews_per_yearmonth['yearmonth'] = reviews_per_yearmonth['yearmonth'].astype(str)"
   ]
  },
  {
   "cell_type": "code",
   "execution_count": null,
   "id": "78efadaf",
   "metadata": {},
   "outputs": [],
   "source": [
    "reviews_per_yearmonth.head(20)"
   ]
  },
  {
   "cell_type": "code",
   "execution_count": null,
   "id": "c56b8671",
   "metadata": {},
   "outputs": [],
   "source": [
    "# plotting the number of reviews per monthYear\n",
    "\n",
    "fig, ax = plt.subplots(figsize=(22, 12))\n",
    "plt.scatter(reviews_per_yearmonth['yearmonth'], reviews_per_yearmonth['listing_count'])\n",
    "plt.xticks(rotation=90)\n",
    "plt.show()"
   ]
  },
  {
   "cell_type": "markdown",
   "id": "75ff6373",
   "metadata": {},
   "source": [
    "As seen previewsly, the number of reviews has increased alot through the years. But when you look closer we can see that for each month of a given year there is a pick. Where the number of reviews id the highest. \n",
    "Let's see more clearl this trend."
   ]
  },
  {
   "cell_type": "code",
   "execution_count": null,
   "id": "17a6e9e8",
   "metadata": {},
   "outputs": [],
   "source": [
    "#Splitting the yearmonth columns to get separe colums for years and months\n",
    "\n",
    "reviews_per_yearmonth_pivot = reviews_per_yearmonth.copy()\n",
    "reviews_per_yearmonth_pivot[['yearmonth','month']] = reviews_per_yearmonth_pivot['yearmonth'].str.split('-',expand=True)"
   ]
  },
  {
   "cell_type": "code",
   "execution_count": null,
   "id": "ca4efb30",
   "metadata": {},
   "outputs": [],
   "source": [
    "reviews_per_yearmonth_pivot.head()"
   ]
  },
  {
   "cell_type": "code",
   "execution_count": null,
   "id": "7e9bd03d",
   "metadata": {},
   "outputs": [],
   "source": [
    "#Transforming the data to a matrice shape for easier plotting.\n",
    "\n",
    "# Months columns prefilled\n",
    "months_in_order = ['01', '02', '03', '04', '05', '06', '07', '08', '09', '10', '11', '12']"
   ]
  },
  {
   "cell_type": "code",
   "execution_count": null,
   "id": "f3739d68",
   "metadata": {},
   "outputs": [],
   "source": [
    "reviews_per_yearmonth_pivot = reviews_per_yearmonth_pivot[reviews_per_yearmonth_pivot['yearmonth']>\"2008\"].pivot(index='month', columns='yearmonth', values='listing_count').reindex(months_in_order)"
   ]
  },
  {
   "cell_type": "code",
   "execution_count": null,
   "id": "6f9485f2",
   "metadata": {},
   "outputs": [],
   "source": [
    "reviews_per_yearmonth_pivot"
   ]
  },
  {
   "cell_type": "code",
   "execution_count": null,
   "id": "876dafdf",
   "metadata": {},
   "outputs": [],
   "source": [
    "reviews_per_yearmonth_pivot.columns"
   ]
  },
  {
   "cell_type": "markdown",
   "id": "2ed17bcc",
   "metadata": {},
   "source": [
    "From a first glance, the pick of the number of reviews happens each year on the 10th month and around. We still need to plot the data for better clarity. There is few null values in 2009 and 2016 columns. The 2009 columns still fit our analysis since the all month from the 7th below are well filled. The 2016 column on the contrary is mnissing some usefull data, we will remove that column."
   ]
  },
  {
   "cell_type": "code",
   "execution_count": null,
   "id": "515b8e23",
   "metadata": {},
   "outputs": [],
   "source": [
    "#fill the null values in the 2009 column with mean\n",
    "reviews_per_yearmonth_pivot['2009'] = reviews_per_yearmonth_pivot['2009'].fillna(value=round(reviews_per_yearmonth_pivot['2009'].mean()))"
   ]
  },
  {
   "cell_type": "code",
   "execution_count": null,
   "id": "56f41cae",
   "metadata": {},
   "outputs": [],
   "source": [
    "#removing the 2016 column\n",
    "reviews_per_yearmonth_pivot = reviews_per_yearmonth_pivot.drop('2016', 1)"
   ]
  },
  {
   "cell_type": "code",
   "execution_count": null,
   "id": "38d08bc8",
   "metadata": {},
   "outputs": [],
   "source": [
    "reviews_per_yearmonth_pivot"
   ]
  },
  {
   "cell_type": "code",
   "execution_count": null,
   "id": "6a71b8a8",
   "metadata": {},
   "outputs": [],
   "source": [
    "#line chart\n",
    "\n",
    "fig, ax = plt.subplots(figsize=(17, 10))\n",
    "plt.plot(reviews_per_yearmonth_pivot, marker='o')\n",
    "plt.title(\"Historical Count of reviews: Month by Month Comaprison\", fontsize=22)\n",
    "plt.xlabel(\"Date [Month]\")\n",
    "plt.ylabel(\"Count [Reviews]\")\n",
    "plt.legend(reviews_per_yearmonth_pivot.columns)\n",
    "plt.show()"
   ]
  },
  {
   "cell_type": "markdown",
   "id": "64d1e2b1",
   "metadata": {},
   "source": [
    "From the above plot, we can conclude that each year the reviews reach a pick level on the 10th month except for 2014 where the pick was reached on the 9th month.\n",
    "Overall, customers tend to give more reviews during around 9th to 10th month.\n",
    "This could be explained by the fact that people will be returning back to their life therefore more property will be giving back to their owner thus people will post their reviews a lot."
   ]
  }
 ],
 "metadata": {
  "kernelspec": {
   "display_name": "Python 3 (ipykernel)",
   "language": "python",
   "name": "python3"
  },
  "language_info": {
   "codemirror_mode": {
    "name": "ipython",
    "version": 3
   },
   "file_extension": ".py",
   "mimetype": "text/x-python",
   "name": "python",
   "nbconvert_exporter": "python",
   "pygments_lexer": "ipython3",
   "version": "3.9.7"
  }
 },
 "nbformat": 4,
 "nbformat_minor": 5
}
