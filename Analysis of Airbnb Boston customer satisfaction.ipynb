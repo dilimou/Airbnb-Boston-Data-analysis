{
 "cells": [
  {
   "cell_type": "markdown",
   "id": "431d8611",
   "metadata": {},
   "source": [
    "# Business Understanding\n",
    "\n",
    "Airbnb is an online platform that connects travellers looking for accommodation to hosts of spaces available for rent.\n",
    "Airbnb is an American vacation rental online marketplace company based in San Francisco, California. Airbnb maintains and hosts \n",
    "a marketplace, accessible to consumers on its website or app. Users can arrange lodging, primarily homestays, and tourism \n",
    "experiences or list their spare rooms, properties, or part of it for rental. On the other hand, users who are traveling are \n",
    "looking for stays search properties and rooms by neighborhood or location. Airbnb recommends the best price in the neighborhood \n",
    "and users book the best deal.\n",
    "\n",
    "In this analysis, we will be using Boston Airbnb data. To analyse the customer reviews and understand customer satisfaction\n",
    "as well as any additional insights from the rewiew. This will allow us to understand customer preferences, and provide what\n",
    "customers want. In order to do so, we will be answering the following questions:\n",
    "    \n",
    "1. What type of properties are being booked the most?\n",
    "2. What are the property traits that attract the highest ratings?\n",
    "3. Is there a relation between the number of bookings of a place and the reviews score?  \n",
    "4. How reviews for a given property changes through seasons?\n",
    "5. When in the year customers gives the best reviews?\n",
    "\n",
    "# Data Understanding\n",
    "\n",
    "In the selected dataset, we have 3 data file:\n",
    "    - listings\n",
    "    - reviews\n",
    "    - calendar\n",
    "We will go through the data in the below analyis to understand them better and use the appropriete one or ones for the rest of\n",
    "our analysis."
   ]
  },
  {
   "cell_type": "code",
   "execution_count": 72,
   "id": "e7e81dbd",
   "metadata": {},
   "outputs": [],
   "source": [
    "#Import the necessary packages\n",
    "\n",
    "import numpy as np\n",
    "import pandas as pd\n",
    "#import matplotlib as mpl\n",
    "import matplotlib.pyplot as plt\n",
    "import matplotlib.dates as mdates\n",
    "import seaborn as sns\n",
    "import cartopy\n",
    "\n",
    "%matplotlib inline\n",
    "#mpl.style.use('ggplot')"
   ]
  },
  {
   "cell_type": "markdown",
   "id": "9577af52",
   "metadata": {},
   "source": [
    "## Reading the 3 files into dataframes"
   ]
  },
  {
   "cell_type": "code",
   "execution_count": 2,
   "id": "fee479c5",
   "metadata": {},
   "outputs": [],
   "source": [
    "listings = pd.read_csv(\"data/listings.csv\")\n",
    "calendar = pd.read_csv(\"data/calendar.csv\")\n",
    "reviews = pd.read_csv(\"data/reviews.csv\")"
   ]
  },
  {
   "cell_type": "markdown",
   "id": "a231d594",
   "metadata": {},
   "source": [
    "## Analysis and data preparation for the 3 files we have"
   ]
  },
  {
   "cell_type": "markdown",
   "id": "53ece039",
   "metadata": {},
   "source": [
    "### Lintings data"
   ]
  },
  {
   "cell_type": "code",
   "execution_count": 4,
   "id": "68edd046",
   "metadata": {},
   "outputs": [
    {
     "data": {
      "text/plain": [
       "Index(['id', 'listing_url', 'scrape_id', 'last_scraped', 'name', 'summary',\n",
       "       'space', 'description', 'experiences_offered', 'neighborhood_overview',\n",
       "       'notes', 'transit', 'access', 'interaction', 'house_rules',\n",
       "       'thumbnail_url', 'medium_url', 'picture_url', 'xl_picture_url',\n",
       "       'host_id', 'host_url', 'host_name', 'host_since', 'host_location',\n",
       "       'host_about', 'host_response_time', 'host_response_rate',\n",
       "       'host_acceptance_rate', 'host_is_superhost', 'host_thumbnail_url',\n",
       "       'host_picture_url', 'host_neighbourhood', 'host_listings_count',\n",
       "       'host_total_listings_count', 'host_verifications',\n",
       "       'host_has_profile_pic', 'host_identity_verified', 'street',\n",
       "       'neighbourhood', 'neighbourhood_cleansed',\n",
       "       'neighbourhood_group_cleansed', 'city', 'state', 'zipcode', 'market',\n",
       "       'smart_location', 'country_code', 'country', 'latitude', 'longitude',\n",
       "       'is_location_exact', 'property_type', 'room_type', 'accommodates',\n",
       "       'bathrooms', 'bedrooms', 'beds', 'bed_type', 'amenities', 'square_feet',\n",
       "       'price', 'weekly_price', 'monthly_price', 'security_deposit',\n",
       "       'cleaning_fee', 'guests_included', 'extra_people', 'minimum_nights',\n",
       "       'maximum_nights', 'calendar_updated', 'has_availability',\n",
       "       'availability_30', 'availability_60', 'availability_90',\n",
       "       'availability_365', 'calendar_last_scraped', 'number_of_reviews',\n",
       "       'first_review', 'last_review', 'review_scores_rating',\n",
       "       'review_scores_accuracy', 'review_scores_cleanliness',\n",
       "       'review_scores_checkin', 'review_scores_communication',\n",
       "       'review_scores_location', 'review_scores_value', 'requires_license',\n",
       "       'license', 'jurisdiction_names', 'instant_bookable',\n",
       "       'cancellation_policy', 'require_guest_profile_picture',\n",
       "       'require_guest_phone_verification', 'calculated_host_listings_count',\n",
       "       'reviews_per_month'],\n",
       "      dtype='object')"
      ]
     },
     "execution_count": 4,
     "metadata": {},
     "output_type": "execute_result"
    }
   ],
   "source": [
    "listings.columns"
   ]
  },
  {
   "cell_type": "code",
   "execution_count": 5,
   "id": "69e8fee9",
   "metadata": {},
   "outputs": [
    {
     "data": {
      "text/plain": [
       "(3585, 95)"
      ]
     },
     "execution_count": 5,
     "metadata": {},
     "output_type": "execute_result"
    }
   ],
   "source": [
    "listings.shape"
   ]
  },
  {
   "cell_type": "code",
   "execution_count": 7,
   "id": "c3d4b0cd",
   "metadata": {},
   "outputs": [
    {
     "name": "stdout",
     "output_type": "stream",
     "text": [
      "<class 'pandas.core.frame.DataFrame'>\n",
      "RangeIndex: 3585 entries, 0 to 3584\n",
      "Data columns (total 95 columns):\n",
      " #   Column                            Non-Null Count  Dtype  \n",
      "---  ------                            --------------  -----  \n",
      " 0   id                                3585 non-null   int64  \n",
      " 1   listing_url                       3585 non-null   object \n",
      " 2   scrape_id                         3585 non-null   int64  \n",
      " 3   last_scraped                      3585 non-null   object \n",
      " 4   name                              3585 non-null   object \n",
      " 5   summary                           3442 non-null   object \n",
      " 6   space                             2528 non-null   object \n",
      " 7   description                       3585 non-null   object \n",
      " 8   experiences_offered               3585 non-null   object \n",
      " 9   neighborhood_overview             2170 non-null   object \n",
      " 10  notes                             1610 non-null   object \n",
      " 11  transit                           2295 non-null   object \n",
      " 12  access                            2096 non-null   object \n",
      " 13  interaction                       2031 non-null   object \n",
      " 14  house_rules                       2393 non-null   object \n",
      " 15  thumbnail_url                     2986 non-null   object \n",
      " 16  medium_url                        2986 non-null   object \n",
      " 17  picture_url                       3585 non-null   object \n",
      " 18  xl_picture_url                    2986 non-null   object \n",
      " 19  host_id                           3585 non-null   int64  \n",
      " 20  host_url                          3585 non-null   object \n",
      " 21  host_name                         3585 non-null   object \n",
      " 22  host_since                        3585 non-null   object \n",
      " 23  host_location                     3574 non-null   object \n",
      " 24  host_about                        2276 non-null   object \n",
      " 25  host_response_time                3114 non-null   object \n",
      " 26  host_response_rate                3114 non-null   object \n",
      " 27  host_acceptance_rate              3114 non-null   object \n",
      " 28  host_is_superhost                 3585 non-null   object \n",
      " 29  host_thumbnail_url                3585 non-null   object \n",
      " 30  host_picture_url                  3585 non-null   object \n",
      " 31  host_neighbourhood                3246 non-null   object \n",
      " 32  host_listings_count               3585 non-null   int64  \n",
      " 33  host_total_listings_count         3585 non-null   int64  \n",
      " 34  host_verifications                3585 non-null   object \n",
      " 35  host_has_profile_pic              3585 non-null   object \n",
      " 36  host_identity_verified            3585 non-null   object \n",
      " 37  street                            3585 non-null   object \n",
      " 38  neighbourhood                     3042 non-null   object \n",
      " 39  neighbourhood_cleansed            3585 non-null   object \n",
      " 40  neighbourhood_group_cleansed      0 non-null      float64\n",
      " 41  city                              3583 non-null   object \n",
      " 42  state                             3585 non-null   object \n",
      " 43  zipcode                           3547 non-null   object \n",
      " 44  market                            3571 non-null   object \n",
      " 45  smart_location                    3585 non-null   object \n",
      " 46  country_code                      3585 non-null   object \n",
      " 47  country                           3585 non-null   object \n",
      " 48  latitude                          3585 non-null   float64\n",
      " 49  longitude                         3585 non-null   float64\n",
      " 50  is_location_exact                 3585 non-null   object \n",
      " 51  property_type                     3582 non-null   object \n",
      " 52  room_type                         3585 non-null   object \n",
      " 53  accommodates                      3585 non-null   int64  \n",
      " 54  bathrooms                         3571 non-null   float64\n",
      " 55  bedrooms                          3575 non-null   float64\n",
      " 56  beds                              3576 non-null   float64\n",
      " 57  bed_type                          3585 non-null   object \n",
      " 58  amenities                         3585 non-null   object \n",
      " 59  square_feet                       56 non-null     float64\n",
      " 60  price                             3585 non-null   object \n",
      " 61  weekly_price                      892 non-null    object \n",
      " 62  monthly_price                     888 non-null    object \n",
      " 63  security_deposit                  1342 non-null   object \n",
      " 64  cleaning_fee                      2478 non-null   object \n",
      " 65  guests_included                   3585 non-null   int64  \n",
      " 66  extra_people                      3585 non-null   object \n",
      " 67  minimum_nights                    3585 non-null   int64  \n",
      " 68  maximum_nights                    3585 non-null   int64  \n",
      " 69  calendar_updated                  3585 non-null   object \n",
      " 70  has_availability                  0 non-null      float64\n",
      " 71  availability_30                   3585 non-null   int64  \n",
      " 72  availability_60                   3585 non-null   int64  \n",
      " 73  availability_90                   3585 non-null   int64  \n",
      " 74  availability_365                  3585 non-null   int64  \n",
      " 75  calendar_last_scraped             3585 non-null   object \n",
      " 76  number_of_reviews                 3585 non-null   int64  \n",
      " 77  first_review                      2829 non-null   object \n",
      " 78  last_review                       2829 non-null   object \n",
      " 79  review_scores_rating              2772 non-null   float64\n",
      " 80  review_scores_accuracy            2762 non-null   float64\n",
      " 81  review_scores_cleanliness         2767 non-null   float64\n",
      " 82  review_scores_checkin             2765 non-null   float64\n",
      " 83  review_scores_communication       2767 non-null   float64\n",
      " 84  review_scores_location            2763 non-null   float64\n",
      " 85  review_scores_value               2764 non-null   float64\n",
      " 86  requires_license                  3585 non-null   object \n",
      " 87  license                           0 non-null      float64\n",
      " 88  jurisdiction_names                0 non-null      float64\n",
      " 89  instant_bookable                  3585 non-null   object \n",
      " 90  cancellation_policy               3585 non-null   object \n",
      " 91  require_guest_profile_picture     3585 non-null   object \n",
      " 92  require_guest_phone_verification  3585 non-null   object \n",
      " 93  calculated_host_listings_count    3585 non-null   int64  \n",
      " 94  reviews_per_month                 2829 non-null   float64\n",
      "dtypes: float64(18), int64(15), object(62)\n",
      "memory usage: 2.6+ MB\n"
     ]
    }
   ],
   "source": [
    "listings.info()"
   ]
  },
  {
   "cell_type": "code",
   "execution_count": 287,
   "id": "1199f953",
   "metadata": {},
   "outputs": [
    {
     "data": {
      "text/html": [
       "<div>\n",
       "<style scoped>\n",
       "    .dataframe tbody tr th:only-of-type {\n",
       "        vertical-align: middle;\n",
       "    }\n",
       "\n",
       "    .dataframe tbody tr th {\n",
       "        vertical-align: top;\n",
       "    }\n",
       "\n",
       "    .dataframe thead th {\n",
       "        text-align: right;\n",
       "    }\n",
       "</style>\n",
       "<table border=\"1\" class=\"dataframe\">\n",
       "  <thead>\n",
       "    <tr style=\"text-align: right;\">\n",
       "      <th></th>\n",
       "      <th>id</th>\n",
       "      <th>scrape_id</th>\n",
       "      <th>host_id</th>\n",
       "      <th>host_listings_count</th>\n",
       "      <th>host_total_listings_count</th>\n",
       "      <th>latitude</th>\n",
       "      <th>longitude</th>\n",
       "      <th>accommodates</th>\n",
       "      <th>bathrooms</th>\n",
       "      <th>bedrooms</th>\n",
       "      <th>...</th>\n",
       "      <th>number_of_reviews</th>\n",
       "      <th>review_scores_rating</th>\n",
       "      <th>review_scores_accuracy</th>\n",
       "      <th>review_scores_cleanliness</th>\n",
       "      <th>review_scores_checkin</th>\n",
       "      <th>review_scores_communication</th>\n",
       "      <th>review_scores_location</th>\n",
       "      <th>review_scores_value</th>\n",
       "      <th>calculated_host_listings_count</th>\n",
       "      <th>reviews_per_month</th>\n",
       "    </tr>\n",
       "  </thead>\n",
       "  <tbody>\n",
       "    <tr>\n",
       "      <th>count</th>\n",
       "      <td>2.829000e+03</td>\n",
       "      <td>2.829000e+03</td>\n",
       "      <td>2.829000e+03</td>\n",
       "      <td>2829.000000</td>\n",
       "      <td>2829.000000</td>\n",
       "      <td>2829.000000</td>\n",
       "      <td>2829.000000</td>\n",
       "      <td>2829.000000</td>\n",
       "      <td>2817.000000</td>\n",
       "      <td>2821.000000</td>\n",
       "      <td>...</td>\n",
       "      <td>2829.00000</td>\n",
       "      <td>2829.000000</td>\n",
       "      <td>2829.000000</td>\n",
       "      <td>2829.000000</td>\n",
       "      <td>2829.000000</td>\n",
       "      <td>2829.000000</td>\n",
       "      <td>2829.000000</td>\n",
       "      <td>2829.000000</td>\n",
       "      <td>2829.000000</td>\n",
       "      <td>2829.000000</td>\n",
       "    </tr>\n",
       "    <tr>\n",
       "      <th>mean</th>\n",
       "      <td>7.685814e+06</td>\n",
       "      <td>2.016091e+13</td>\n",
       "      <td>2.303059e+07</td>\n",
       "      <td>42.929657</td>\n",
       "      <td>42.929657</td>\n",
       "      <td>42.339158</td>\n",
       "      <td>-71.083829</td>\n",
       "      <td>3.055850</td>\n",
       "      <td>1.214412</td>\n",
       "      <td>1.248848</td>\n",
       "      <td>...</td>\n",
       "      <td>24.13397</td>\n",
       "      <td>91.918346</td>\n",
       "      <td>9.421350</td>\n",
       "      <td>9.252386</td>\n",
       "      <td>9.654295</td>\n",
       "      <td>9.654295</td>\n",
       "      <td>9.404383</td>\n",
       "      <td>9.164369</td>\n",
       "      <td>10.067162</td>\n",
       "      <td>1.970908</td>\n",
       "    </tr>\n",
       "    <tr>\n",
       "      <th>std</th>\n",
       "      <td>4.401384e+06</td>\n",
       "      <td>8.399922e-01</td>\n",
       "      <td>2.204346e+07</td>\n",
       "      <td>139.895848</td>\n",
       "      <td>139.895848</td>\n",
       "      <td>0.024897</td>\n",
       "      <td>0.031660</td>\n",
       "      <td>1.816082</td>\n",
       "      <td>0.497685</td>\n",
       "      <td>0.764298</td>\n",
       "      <td>...</td>\n",
       "      <td>38.48030</td>\n",
       "      <td>9.435146</td>\n",
       "      <td>0.923095</td>\n",
       "      <td>1.156709</td>\n",
       "      <td>0.755906</td>\n",
       "      <td>0.729239</td>\n",
       "      <td>0.895017</td>\n",
       "      <td>0.999747</td>\n",
       "      <td>23.604063</td>\n",
       "      <td>2.120561</td>\n",
       "    </tr>\n",
       "    <tr>\n",
       "      <th>min</th>\n",
       "      <td>3.353000e+03</td>\n",
       "      <td>2.016091e+13</td>\n",
       "      <td>4.240000e+03</td>\n",
       "      <td>1.000000</td>\n",
       "      <td>1.000000</td>\n",
       "      <td>42.235942</td>\n",
       "      <td>-71.171469</td>\n",
       "      <td>1.000000</td>\n",
       "      <td>0.000000</td>\n",
       "      <td>0.000000</td>\n",
       "      <td>...</td>\n",
       "      <td>1.00000</td>\n",
       "      <td>20.000000</td>\n",
       "      <td>2.000000</td>\n",
       "      <td>2.000000</td>\n",
       "      <td>2.000000</td>\n",
       "      <td>4.000000</td>\n",
       "      <td>2.000000</td>\n",
       "      <td>2.000000</td>\n",
       "      <td>1.000000</td>\n",
       "      <td>0.010000</td>\n",
       "    </tr>\n",
       "    <tr>\n",
       "      <th>25%</th>\n",
       "      <td>4.109165e+06</td>\n",
       "      <td>2.016091e+13</td>\n",
       "      <td>5.243773e+06</td>\n",
       "      <td>1.000000</td>\n",
       "      <td>1.000000</td>\n",
       "      <td>42.326570</td>\n",
       "      <td>-71.104974</td>\n",
       "      <td>2.000000</td>\n",
       "      <td>1.000000</td>\n",
       "      <td>1.000000</td>\n",
       "      <td>...</td>\n",
       "      <td>3.00000</td>\n",
       "      <td>89.000000</td>\n",
       "      <td>9.000000</td>\n",
       "      <td>9.000000</td>\n",
       "      <td>10.000000</td>\n",
       "      <td>10.000000</td>\n",
       "      <td>9.000000</td>\n",
       "      <td>9.000000</td>\n",
       "      <td>1.000000</td>\n",
       "      <td>0.480000</td>\n",
       "    </tr>\n",
       "    <tr>\n",
       "      <th>50%</th>\n",
       "      <td>7.746589e+06</td>\n",
       "      <td>2.016091e+13</td>\n",
       "      <td>1.688177e+07</td>\n",
       "      <td>2.000000</td>\n",
       "      <td>2.000000</td>\n",
       "      <td>42.344795</td>\n",
       "      <td>-71.077400</td>\n",
       "      <td>2.000000</td>\n",
       "      <td>1.000000</td>\n",
       "      <td>1.000000</td>\n",
       "      <td>...</td>\n",
       "      <td>9.00000</td>\n",
       "      <td>94.000000</td>\n",
       "      <td>10.000000</td>\n",
       "      <td>10.000000</td>\n",
       "      <td>10.000000</td>\n",
       "      <td>10.000000</td>\n",
       "      <td>10.000000</td>\n",
       "      <td>9.000000</td>\n",
       "      <td>2.000000</td>\n",
       "      <td>1.170000</td>\n",
       "    </tr>\n",
       "    <tr>\n",
       "      <th>75%</th>\n",
       "      <td>1.186687e+07</td>\n",
       "      <td>2.016091e+13</td>\n",
       "      <td>3.338642e+07</td>\n",
       "      <td>6.000000</td>\n",
       "      <td>6.000000</td>\n",
       "      <td>42.354910</td>\n",
       "      <td>-71.061738</td>\n",
       "      <td>4.000000</td>\n",
       "      <td>1.000000</td>\n",
       "      <td>1.000000</td>\n",
       "      <td>...</td>\n",
       "      <td>28.00000</td>\n",
       "      <td>98.000000</td>\n",
       "      <td>10.000000</td>\n",
       "      <td>10.000000</td>\n",
       "      <td>10.000000</td>\n",
       "      <td>10.000000</td>\n",
       "      <td>10.000000</td>\n",
       "      <td>10.000000</td>\n",
       "      <td>5.000000</td>\n",
       "      <td>2.720000</td>\n",
       "    </tr>\n",
       "    <tr>\n",
       "      <th>max</th>\n",
       "      <td>1.484378e+07</td>\n",
       "      <td>2.016091e+13</td>\n",
       "      <td>9.287818e+07</td>\n",
       "      <td>749.000000</td>\n",
       "      <td>749.000000</td>\n",
       "      <td>42.389982</td>\n",
       "      <td>-71.000100</td>\n",
       "      <td>16.000000</td>\n",
       "      <td>6.000000</td>\n",
       "      <td>5.000000</td>\n",
       "      <td>...</td>\n",
       "      <td>404.00000</td>\n",
       "      <td>100.000000</td>\n",
       "      <td>10.000000</td>\n",
       "      <td>10.000000</td>\n",
       "      <td>10.000000</td>\n",
       "      <td>10.000000</td>\n",
       "      <td>10.000000</td>\n",
       "      <td>10.000000</td>\n",
       "      <td>136.000000</td>\n",
       "      <td>19.150000</td>\n",
       "    </tr>\n",
       "  </tbody>\n",
       "</table>\n",
       "<p>8 rows × 29 columns</p>\n",
       "</div>"
      ],
      "text/plain": [
       "                 id     scrape_id       host_id  host_listings_count  \\\n",
       "count  2.829000e+03  2.829000e+03  2.829000e+03          2829.000000   \n",
       "mean   7.685814e+06  2.016091e+13  2.303059e+07            42.929657   \n",
       "std    4.401384e+06  8.399922e-01  2.204346e+07           139.895848   \n",
       "min    3.353000e+03  2.016091e+13  4.240000e+03             1.000000   \n",
       "25%    4.109165e+06  2.016091e+13  5.243773e+06             1.000000   \n",
       "50%    7.746589e+06  2.016091e+13  1.688177e+07             2.000000   \n",
       "75%    1.186687e+07  2.016091e+13  3.338642e+07             6.000000   \n",
       "max    1.484378e+07  2.016091e+13  9.287818e+07           749.000000   \n",
       "\n",
       "       host_total_listings_count     latitude    longitude  accommodates  \\\n",
       "count                2829.000000  2829.000000  2829.000000   2829.000000   \n",
       "mean                   42.929657    42.339158   -71.083829      3.055850   \n",
       "std                   139.895848     0.024897     0.031660      1.816082   \n",
       "min                     1.000000    42.235942   -71.171469      1.000000   \n",
       "25%                     1.000000    42.326570   -71.104974      2.000000   \n",
       "50%                     2.000000    42.344795   -71.077400      2.000000   \n",
       "75%                     6.000000    42.354910   -71.061738      4.000000   \n",
       "max                   749.000000    42.389982   -71.000100     16.000000   \n",
       "\n",
       "         bathrooms     bedrooms  ...  number_of_reviews  review_scores_rating  \\\n",
       "count  2817.000000  2821.000000  ...         2829.00000           2829.000000   \n",
       "mean      1.214412     1.248848  ...           24.13397             91.918346   \n",
       "std       0.497685     0.764298  ...           38.48030              9.435146   \n",
       "min       0.000000     0.000000  ...            1.00000             20.000000   \n",
       "25%       1.000000     1.000000  ...            3.00000             89.000000   \n",
       "50%       1.000000     1.000000  ...            9.00000             94.000000   \n",
       "75%       1.000000     1.000000  ...           28.00000             98.000000   \n",
       "max       6.000000     5.000000  ...          404.00000            100.000000   \n",
       "\n",
       "       review_scores_accuracy  review_scores_cleanliness  \\\n",
       "count             2829.000000                2829.000000   \n",
       "mean                 9.421350                   9.252386   \n",
       "std                  0.923095                   1.156709   \n",
       "min                  2.000000                   2.000000   \n",
       "25%                  9.000000                   9.000000   \n",
       "50%                 10.000000                  10.000000   \n",
       "75%                 10.000000                  10.000000   \n",
       "max                 10.000000                  10.000000   \n",
       "\n",
       "       review_scores_checkin  review_scores_communication  \\\n",
       "count            2829.000000                  2829.000000   \n",
       "mean                9.654295                     9.654295   \n",
       "std                 0.755906                     0.729239   \n",
       "min                 2.000000                     4.000000   \n",
       "25%                10.000000                    10.000000   \n",
       "50%                10.000000                    10.000000   \n",
       "75%                10.000000                    10.000000   \n",
       "max                10.000000                    10.000000   \n",
       "\n",
       "       review_scores_location  review_scores_value  \\\n",
       "count             2829.000000          2829.000000   \n",
       "mean                 9.404383             9.164369   \n",
       "std                  0.895017             0.999747   \n",
       "min                  2.000000             2.000000   \n",
       "25%                  9.000000             9.000000   \n",
       "50%                 10.000000             9.000000   \n",
       "75%                 10.000000            10.000000   \n",
       "max                 10.000000            10.000000   \n",
       "\n",
       "       calculated_host_listings_count  reviews_per_month  \n",
       "count                     2829.000000        2829.000000  \n",
       "mean                        10.067162           1.970908  \n",
       "std                         23.604063           2.120561  \n",
       "min                          1.000000           0.010000  \n",
       "25%                          1.000000           0.480000  \n",
       "50%                          2.000000           1.170000  \n",
       "75%                          5.000000           2.720000  \n",
       "max                        136.000000          19.150000  \n",
       "\n",
       "[8 rows x 29 columns]"
      ]
     },
     "execution_count": 287,
     "metadata": {},
     "output_type": "execute_result"
    }
   ],
   "source": [
    "listings.describe()"
   ]
  },
  {
   "cell_type": "markdown",
   "id": "6ecf7e78",
   "metadata": {},
   "source": [
    "### Dealing with null values in the listings data"
   ]
  },
  {
   "cell_type": "code",
   "execution_count": 8,
   "id": "bbbbbef5",
   "metadata": {},
   "outputs": [],
   "source": [
    "#list of column with more than 70% null value\n",
    "\n",
    "to_drop = [cols for cols in listings.columns.values if (listings[cols].isnull().sum()/len(listings)*100)>=70]"
   ]
  },
  {
   "cell_type": "code",
   "execution_count": 9,
   "id": "181d681a",
   "metadata": {},
   "outputs": [
    {
     "data": {
      "text/plain": [
       "['neighbourhood_group_cleansed',\n",
       " 'square_feet',\n",
       " 'weekly_price',\n",
       " 'monthly_price',\n",
       " 'has_availability',\n",
       " 'license',\n",
       " 'jurisdiction_names']"
      ]
     },
     "execution_count": 9,
     "metadata": {},
     "output_type": "execute_result"
    }
   ],
   "source": [
    "#check the result\n",
    "to_drop"
   ]
  },
  {
   "cell_type": "markdown",
   "id": "7082bffb",
   "metadata": {},
   "source": [
    "We will drop thos colums with more than 70% null values as they are not usefull for our analysis\n",
    "The weekly_price and monthly_price can also be removed as we have the price column which is enough for our needs."
   ]
  },
  {
   "cell_type": "code",
   "execution_count": 10,
   "id": "236caaf9",
   "metadata": {},
   "outputs": [],
   "source": [
    "#Drop columns with more than 70% null value\n",
    "listings.drop(to_drop,axis=1,inplace=True)"
   ]
  },
  {
   "cell_type": "code",
   "execution_count": 288,
   "id": "845596a9",
   "metadata": {},
   "outputs": [
    {
     "data": {
      "text/plain": [
       "[]"
      ]
     },
     "execution_count": 288,
     "metadata": {},
     "output_type": "execute_result"
    }
   ],
   "source": [
    "#cehck if all columns with more than 70% null value has been removed\n",
    "[cols for cols in listings.columns.values if (listings[cols].isnull().sum()/len(listings)*100)>=70]"
   ]
  },
  {
   "cell_type": "markdown",
   "id": "240a3b17",
   "metadata": {},
   "source": [
    "Now we are dealing with the price colums."
   ]
  },
  {
   "cell_type": "code",
   "execution_count": 12,
   "id": "10308515",
   "metadata": {},
   "outputs": [],
   "source": [
    "# List of all columns with price\n",
    "listings_price = listings[[x for x in listings.columns if 'price' in x]]"
   ]
  },
  {
   "cell_type": "code",
   "execution_count": 13,
   "id": "124eb466",
   "metadata": {},
   "outputs": [
    {
     "data": {
      "text/html": [
       "<div>\n",
       "<style scoped>\n",
       "    .dataframe tbody tr th:only-of-type {\n",
       "        vertical-align: middle;\n",
       "    }\n",
       "\n",
       "    .dataframe tbody tr th {\n",
       "        vertical-align: top;\n",
       "    }\n",
       "\n",
       "    .dataframe thead th {\n",
       "        text-align: right;\n",
       "    }\n",
       "</style>\n",
       "<table border=\"1\" class=\"dataframe\">\n",
       "  <thead>\n",
       "    <tr style=\"text-align: right;\">\n",
       "      <th></th>\n",
       "      <th>price</th>\n",
       "    </tr>\n",
       "  </thead>\n",
       "  <tbody>\n",
       "    <tr>\n",
       "      <th>0</th>\n",
       "      <td>$250.00</td>\n",
       "    </tr>\n",
       "    <tr>\n",
       "      <th>1</th>\n",
       "      <td>$65.00</td>\n",
       "    </tr>\n",
       "    <tr>\n",
       "      <th>2</th>\n",
       "      <td>$65.00</td>\n",
       "    </tr>\n",
       "    <tr>\n",
       "      <th>3</th>\n",
       "      <td>$75.00</td>\n",
       "    </tr>\n",
       "    <tr>\n",
       "      <th>4</th>\n",
       "      <td>$79.00</td>\n",
       "    </tr>\n",
       "  </tbody>\n",
       "</table>\n",
       "</div>"
      ],
      "text/plain": [
       "     price\n",
       "0  $250.00\n",
       "1   $65.00\n",
       "2   $65.00\n",
       "3   $75.00\n",
       "4   $79.00"
      ]
     },
     "execution_count": 13,
     "metadata": {},
     "output_type": "execute_result"
    }
   ],
   "source": [
    "listings_price.head()"
   ]
  },
  {
   "cell_type": "markdown",
   "id": "f901bf78",
   "metadata": {},
   "source": [
    "Let's change the type of the price column to string and remove the dollar($)sign"
   ]
  },
  {
   "cell_type": "code",
   "execution_count": 15,
   "id": "67770541",
   "metadata": {},
   "outputs": [
    {
     "name": "stderr",
     "output_type": "stream",
     "text": [
      "C:\\Users\\Dilimou\\AppData\\Local\\Temp/ipykernel_1904/2254185657.py:2: FutureWarning: The default value of regex will change from True to False in a future version. In addition, single character regular expressions will *not* be treated as literal strings when regex=True.\n",
      "  listings.price = listings.price.str.replace('$', '').str.replace(',', '').astype(float)\n"
     ]
    }
   ],
   "source": [
    "# change the type of the price column and remove the $ sign\n",
    "listings.price = listings.price.str.replace('$', '').str.replace(',', '').astype(float)"
   ]
  },
  {
   "cell_type": "code",
   "execution_count": 16,
   "id": "dc93111d",
   "metadata": {},
   "outputs": [
    {
     "data": {
      "text/plain": [
       "0    250.0\n",
       "1     65.0\n",
       "2     65.0\n",
       "3     75.0\n",
       "4     79.0\n",
       "Name: price, dtype: float64"
      ]
     },
     "execution_count": 16,
     "metadata": {},
     "output_type": "execute_result"
    }
   ],
   "source": [
    "#check the changes\n",
    "listings.price.head()"
   ]
  },
  {
   "cell_type": "markdown",
   "id": "bc0ddeda",
   "metadata": {},
   "source": [
    "As our main focus on this analysis is the reviews, let's isolates all columns with reviews and see if we need to so any chansges"
   ]
  },
  {
   "cell_type": "code",
   "execution_count": 18,
   "id": "9109652c",
   "metadata": {},
   "outputs": [],
   "source": [
    "#list of columns related to reviews\n",
    "listings_reviews = listings[[x for x in listings.columns if 'review' in x]]"
   ]
  },
  {
   "cell_type": "code",
   "execution_count": 19,
   "id": "5ec0b0e8",
   "metadata": {},
   "outputs": [
    {
     "data": {
      "text/html": [
       "<div>\n",
       "<style scoped>\n",
       "    .dataframe tbody tr th:only-of-type {\n",
       "        vertical-align: middle;\n",
       "    }\n",
       "\n",
       "    .dataframe tbody tr th {\n",
       "        vertical-align: top;\n",
       "    }\n",
       "\n",
       "    .dataframe thead th {\n",
       "        text-align: right;\n",
       "    }\n",
       "</style>\n",
       "<table border=\"1\" class=\"dataframe\">\n",
       "  <thead>\n",
       "    <tr style=\"text-align: right;\">\n",
       "      <th></th>\n",
       "      <th>number_of_reviews</th>\n",
       "      <th>review_scores_rating</th>\n",
       "      <th>review_scores_accuracy</th>\n",
       "      <th>review_scores_cleanliness</th>\n",
       "      <th>review_scores_checkin</th>\n",
       "      <th>review_scores_communication</th>\n",
       "      <th>review_scores_location</th>\n",
       "      <th>review_scores_value</th>\n",
       "      <th>reviews_per_month</th>\n",
       "    </tr>\n",
       "  </thead>\n",
       "  <tbody>\n",
       "    <tr>\n",
       "      <th>count</th>\n",
       "      <td>3585.000000</td>\n",
       "      <td>2772.000000</td>\n",
       "      <td>2762.000000</td>\n",
       "      <td>2767.000000</td>\n",
       "      <td>2765.000000</td>\n",
       "      <td>2767.000000</td>\n",
       "      <td>2763.000000</td>\n",
       "      <td>2764.000000</td>\n",
       "      <td>2829.000000</td>\n",
       "    </tr>\n",
       "    <tr>\n",
       "      <th>mean</th>\n",
       "      <td>19.044630</td>\n",
       "      <td>91.916667</td>\n",
       "      <td>9.431571</td>\n",
       "      <td>9.258041</td>\n",
       "      <td>9.646293</td>\n",
       "      <td>9.646549</td>\n",
       "      <td>9.414043</td>\n",
       "      <td>9.168234</td>\n",
       "      <td>1.970908</td>\n",
       "    </tr>\n",
       "    <tr>\n",
       "      <th>std</th>\n",
       "      <td>35.571658</td>\n",
       "      <td>9.531686</td>\n",
       "      <td>0.931863</td>\n",
       "      <td>1.168977</td>\n",
       "      <td>0.762753</td>\n",
       "      <td>0.735507</td>\n",
       "      <td>0.903436</td>\n",
       "      <td>1.011116</td>\n",
       "      <td>2.120561</td>\n",
       "    </tr>\n",
       "    <tr>\n",
       "      <th>min</th>\n",
       "      <td>0.000000</td>\n",
       "      <td>20.000000</td>\n",
       "      <td>2.000000</td>\n",
       "      <td>2.000000</td>\n",
       "      <td>2.000000</td>\n",
       "      <td>4.000000</td>\n",
       "      <td>2.000000</td>\n",
       "      <td>2.000000</td>\n",
       "      <td>0.010000</td>\n",
       "    </tr>\n",
       "    <tr>\n",
       "      <th>25%</th>\n",
       "      <td>1.000000</td>\n",
       "      <td>89.000000</td>\n",
       "      <td>9.000000</td>\n",
       "      <td>9.000000</td>\n",
       "      <td>9.000000</td>\n",
       "      <td>9.000000</td>\n",
       "      <td>9.000000</td>\n",
       "      <td>9.000000</td>\n",
       "      <td>0.480000</td>\n",
       "    </tr>\n",
       "    <tr>\n",
       "      <th>50%</th>\n",
       "      <td>5.000000</td>\n",
       "      <td>94.000000</td>\n",
       "      <td>10.000000</td>\n",
       "      <td>10.000000</td>\n",
       "      <td>10.000000</td>\n",
       "      <td>10.000000</td>\n",
       "      <td>10.000000</td>\n",
       "      <td>9.000000</td>\n",
       "      <td>1.170000</td>\n",
       "    </tr>\n",
       "    <tr>\n",
       "      <th>75%</th>\n",
       "      <td>21.000000</td>\n",
       "      <td>98.250000</td>\n",
       "      <td>10.000000</td>\n",
       "      <td>10.000000</td>\n",
       "      <td>10.000000</td>\n",
       "      <td>10.000000</td>\n",
       "      <td>10.000000</td>\n",
       "      <td>10.000000</td>\n",
       "      <td>2.720000</td>\n",
       "    </tr>\n",
       "    <tr>\n",
       "      <th>max</th>\n",
       "      <td>404.000000</td>\n",
       "      <td>100.000000</td>\n",
       "      <td>10.000000</td>\n",
       "      <td>10.000000</td>\n",
       "      <td>10.000000</td>\n",
       "      <td>10.000000</td>\n",
       "      <td>10.000000</td>\n",
       "      <td>10.000000</td>\n",
       "      <td>19.150000</td>\n",
       "    </tr>\n",
       "  </tbody>\n",
       "</table>\n",
       "</div>"
      ],
      "text/plain": [
       "       number_of_reviews  review_scores_rating  review_scores_accuracy  \\\n",
       "count        3585.000000           2772.000000             2762.000000   \n",
       "mean           19.044630             91.916667                9.431571   \n",
       "std            35.571658              9.531686                0.931863   \n",
       "min             0.000000             20.000000                2.000000   \n",
       "25%             1.000000             89.000000                9.000000   \n",
       "50%             5.000000             94.000000               10.000000   \n",
       "75%            21.000000             98.250000               10.000000   \n",
       "max           404.000000            100.000000               10.000000   \n",
       "\n",
       "       review_scores_cleanliness  review_scores_checkin  \\\n",
       "count                2767.000000            2765.000000   \n",
       "mean                    9.258041               9.646293   \n",
       "std                     1.168977               0.762753   \n",
       "min                     2.000000               2.000000   \n",
       "25%                     9.000000               9.000000   \n",
       "50%                    10.000000              10.000000   \n",
       "75%                    10.000000              10.000000   \n",
       "max                    10.000000              10.000000   \n",
       "\n",
       "       review_scores_communication  review_scores_location  \\\n",
       "count                  2767.000000             2763.000000   \n",
       "mean                      9.646549                9.414043   \n",
       "std                       0.735507                0.903436   \n",
       "min                       4.000000                2.000000   \n",
       "25%                       9.000000                9.000000   \n",
       "50%                      10.000000               10.000000   \n",
       "75%                      10.000000               10.000000   \n",
       "max                      10.000000               10.000000   \n",
       "\n",
       "       review_scores_value  reviews_per_month  \n",
       "count          2764.000000        2829.000000  \n",
       "mean              9.168234           1.970908  \n",
       "std               1.011116           2.120561  \n",
       "min               2.000000           0.010000  \n",
       "25%               9.000000           0.480000  \n",
       "50%               9.000000           1.170000  \n",
       "75%              10.000000           2.720000  \n",
       "max              10.000000          19.150000  "
      ]
     },
     "execution_count": 19,
     "metadata": {},
     "output_type": "execute_result"
    }
   ],
   "source": [
    "listings_reviews.describe()"
   ]
  },
  {
   "cell_type": "code",
   "execution_count": 21,
   "id": "b73b5713",
   "metadata": {},
   "outputs": [
    {
     "name": "stdout",
     "output_type": "stream",
     "text": [
      "<class 'pandas.core.frame.DataFrame'>\n",
      "RangeIndex: 3585 entries, 0 to 3584\n",
      "Data columns (total 11 columns):\n",
      " #   Column                       Non-Null Count  Dtype  \n",
      "---  ------                       --------------  -----  \n",
      " 0   number_of_reviews            3585 non-null   int64  \n",
      " 1   first_review                 2829 non-null   object \n",
      " 2   last_review                  2829 non-null   object \n",
      " 3   review_scores_rating         2772 non-null   float64\n",
      " 4   review_scores_accuracy       2762 non-null   float64\n",
      " 5   review_scores_cleanliness    2767 non-null   float64\n",
      " 6   review_scores_checkin        2765 non-null   float64\n",
      " 7   review_scores_communication  2767 non-null   float64\n",
      " 8   review_scores_location       2763 non-null   float64\n",
      " 9   review_scores_value          2764 non-null   float64\n",
      " 10  reviews_per_month            2829 non-null   float64\n",
      "dtypes: float64(8), int64(1), object(2)\n",
      "memory usage: 308.2+ KB\n"
     ]
    }
   ],
   "source": [
    "listings_reviews.info()"
   ]
  },
  {
   "cell_type": "code",
   "execution_count": 23,
   "id": "2fb51ce4",
   "metadata": {},
   "outputs": [
    {
     "data": {
      "text/html": [
       "<div>\n",
       "<style scoped>\n",
       "    .dataframe tbody tr th:only-of-type {\n",
       "        vertical-align: middle;\n",
       "    }\n",
       "\n",
       "    .dataframe tbody tr th {\n",
       "        vertical-align: top;\n",
       "    }\n",
       "\n",
       "    .dataframe thead th {\n",
       "        text-align: right;\n",
       "    }\n",
       "</style>\n",
       "<table border=\"1\" class=\"dataframe\">\n",
       "  <thead>\n",
       "    <tr style=\"text-align: right;\">\n",
       "      <th></th>\n",
       "      <th>number_of_reviews</th>\n",
       "      <th>first_review</th>\n",
       "      <th>last_review</th>\n",
       "      <th>review_scores_rating</th>\n",
       "      <th>review_scores_accuracy</th>\n",
       "      <th>review_scores_cleanliness</th>\n",
       "      <th>review_scores_checkin</th>\n",
       "      <th>review_scores_communication</th>\n",
       "      <th>review_scores_location</th>\n",
       "      <th>review_scores_value</th>\n",
       "      <th>reviews_per_month</th>\n",
       "    </tr>\n",
       "  </thead>\n",
       "  <tbody>\n",
       "    <tr>\n",
       "      <th>0</th>\n",
       "      <td>0</td>\n",
       "      <td>NaN</td>\n",
       "      <td>NaN</td>\n",
       "      <td>NaN</td>\n",
       "      <td>NaN</td>\n",
       "      <td>NaN</td>\n",
       "      <td>NaN</td>\n",
       "      <td>NaN</td>\n",
       "      <td>NaN</td>\n",
       "      <td>NaN</td>\n",
       "      <td>NaN</td>\n",
       "    </tr>\n",
       "    <tr>\n",
       "      <th>1</th>\n",
       "      <td>36</td>\n",
       "      <td>2014-06-01</td>\n",
       "      <td>2016-08-13</td>\n",
       "      <td>94.0</td>\n",
       "      <td>10.0</td>\n",
       "      <td>9.0</td>\n",
       "      <td>10.0</td>\n",
       "      <td>10.0</td>\n",
       "      <td>9.0</td>\n",
       "      <td>9.0</td>\n",
       "      <td>1.30</td>\n",
       "    </tr>\n",
       "    <tr>\n",
       "      <th>2</th>\n",
       "      <td>41</td>\n",
       "      <td>2009-07-19</td>\n",
       "      <td>2016-08-05</td>\n",
       "      <td>98.0</td>\n",
       "      <td>10.0</td>\n",
       "      <td>9.0</td>\n",
       "      <td>10.0</td>\n",
       "      <td>10.0</td>\n",
       "      <td>9.0</td>\n",
       "      <td>10.0</td>\n",
       "      <td>0.47</td>\n",
       "    </tr>\n",
       "    <tr>\n",
       "      <th>3</th>\n",
       "      <td>1</td>\n",
       "      <td>2016-08-28</td>\n",
       "      <td>2016-08-28</td>\n",
       "      <td>100.0</td>\n",
       "      <td>10.0</td>\n",
       "      <td>10.0</td>\n",
       "      <td>10.0</td>\n",
       "      <td>10.0</td>\n",
       "      <td>10.0</td>\n",
       "      <td>10.0</td>\n",
       "      <td>1.00</td>\n",
       "    </tr>\n",
       "    <tr>\n",
       "      <th>4</th>\n",
       "      <td>29</td>\n",
       "      <td>2015-08-18</td>\n",
       "      <td>2016-09-01</td>\n",
       "      <td>99.0</td>\n",
       "      <td>10.0</td>\n",
       "      <td>10.0</td>\n",
       "      <td>10.0</td>\n",
       "      <td>10.0</td>\n",
       "      <td>9.0</td>\n",
       "      <td>10.0</td>\n",
       "      <td>2.25</td>\n",
       "    </tr>\n",
       "  </tbody>\n",
       "</table>\n",
       "</div>"
      ],
      "text/plain": [
       "   number_of_reviews first_review last_review  review_scores_rating  \\\n",
       "0                  0          NaN         NaN                   NaN   \n",
       "1                 36   2014-06-01  2016-08-13                  94.0   \n",
       "2                 41   2009-07-19  2016-08-05                  98.0   \n",
       "3                  1   2016-08-28  2016-08-28                 100.0   \n",
       "4                 29   2015-08-18  2016-09-01                  99.0   \n",
       "\n",
       "   review_scores_accuracy  review_scores_cleanliness  review_scores_checkin  \\\n",
       "0                     NaN                        NaN                    NaN   \n",
       "1                    10.0                        9.0                   10.0   \n",
       "2                    10.0                        9.0                   10.0   \n",
       "3                    10.0                       10.0                   10.0   \n",
       "4                    10.0                       10.0                   10.0   \n",
       "\n",
       "   review_scores_communication  review_scores_location  review_scores_value  \\\n",
       "0                          NaN                     NaN                  NaN   \n",
       "1                         10.0                     9.0                  9.0   \n",
       "2                         10.0                     9.0                 10.0   \n",
       "3                         10.0                    10.0                 10.0   \n",
       "4                         10.0                     9.0                 10.0   \n",
       "\n",
       "   reviews_per_month  \n",
       "0                NaN  \n",
       "1               1.30  \n",
       "2               0.47  \n",
       "3               1.00  \n",
       "4               2.25  "
      ]
     },
     "execution_count": 23,
     "metadata": {},
     "output_type": "execute_result"
    }
   ],
   "source": [
    "listings_reviews.head()"
   ]
  },
  {
   "cell_type": "markdown",
   "id": "a46d70f0",
   "metadata": {},
   "source": [
    "In the listings_reviews we do have some rows with number of reviews equal zero(0). Those rows are not so usefull for our analysis. Therefore we will drop them."
   ]
  },
  {
   "cell_type": "code",
   "execution_count": 24,
   "id": "b9fc2d2e",
   "metadata": {},
   "outputs": [],
   "source": [
    "# Grouping all rows without reviews\n",
    "to_drop1 = listings_reviews[listings_reviews['number_of_reviews'] == 0]"
   ]
  },
  {
   "cell_type": "code",
   "execution_count": 25,
   "id": "bce765be",
   "metadata": {},
   "outputs": [
    {
     "data": {
      "text/html": [
       "<div>\n",
       "<style scoped>\n",
       "    .dataframe tbody tr th:only-of-type {\n",
       "        vertical-align: middle;\n",
       "    }\n",
       "\n",
       "    .dataframe tbody tr th {\n",
       "        vertical-align: top;\n",
       "    }\n",
       "\n",
       "    .dataframe thead th {\n",
       "        text-align: right;\n",
       "    }\n",
       "</style>\n",
       "<table border=\"1\" class=\"dataframe\">\n",
       "  <thead>\n",
       "    <tr style=\"text-align: right;\">\n",
       "      <th></th>\n",
       "      <th>number_of_reviews</th>\n",
       "      <th>first_review</th>\n",
       "      <th>last_review</th>\n",
       "      <th>review_scores_rating</th>\n",
       "      <th>review_scores_accuracy</th>\n",
       "      <th>review_scores_cleanliness</th>\n",
       "      <th>review_scores_checkin</th>\n",
       "      <th>review_scores_communication</th>\n",
       "      <th>review_scores_location</th>\n",
       "      <th>review_scores_value</th>\n",
       "      <th>reviews_per_month</th>\n",
       "    </tr>\n",
       "  </thead>\n",
       "  <tbody>\n",
       "    <tr>\n",
       "      <th>0</th>\n",
       "      <td>0</td>\n",
       "      <td>NaN</td>\n",
       "      <td>NaN</td>\n",
       "      <td>NaN</td>\n",
       "      <td>NaN</td>\n",
       "      <td>NaN</td>\n",
       "      <td>NaN</td>\n",
       "      <td>NaN</td>\n",
       "      <td>NaN</td>\n",
       "      <td>NaN</td>\n",
       "      <td>NaN</td>\n",
       "    </tr>\n",
       "    <tr>\n",
       "      <th>18</th>\n",
       "      <td>0</td>\n",
       "      <td>NaN</td>\n",
       "      <td>NaN</td>\n",
       "      <td>NaN</td>\n",
       "      <td>NaN</td>\n",
       "      <td>NaN</td>\n",
       "      <td>NaN</td>\n",
       "      <td>NaN</td>\n",
       "      <td>NaN</td>\n",
       "      <td>NaN</td>\n",
       "      <td>NaN</td>\n",
       "    </tr>\n",
       "    <tr>\n",
       "      <th>32</th>\n",
       "      <td>0</td>\n",
       "      <td>NaN</td>\n",
       "      <td>NaN</td>\n",
       "      <td>NaN</td>\n",
       "      <td>NaN</td>\n",
       "      <td>NaN</td>\n",
       "      <td>NaN</td>\n",
       "      <td>NaN</td>\n",
       "      <td>NaN</td>\n",
       "      <td>NaN</td>\n",
       "      <td>NaN</td>\n",
       "    </tr>\n",
       "    <tr>\n",
       "      <th>36</th>\n",
       "      <td>0</td>\n",
       "      <td>NaN</td>\n",
       "      <td>NaN</td>\n",
       "      <td>NaN</td>\n",
       "      <td>NaN</td>\n",
       "      <td>NaN</td>\n",
       "      <td>NaN</td>\n",
       "      <td>NaN</td>\n",
       "      <td>NaN</td>\n",
       "      <td>NaN</td>\n",
       "      <td>NaN</td>\n",
       "    </tr>\n",
       "    <tr>\n",
       "      <th>53</th>\n",
       "      <td>0</td>\n",
       "      <td>NaN</td>\n",
       "      <td>NaN</td>\n",
       "      <td>NaN</td>\n",
       "      <td>NaN</td>\n",
       "      <td>NaN</td>\n",
       "      <td>NaN</td>\n",
       "      <td>NaN</td>\n",
       "      <td>NaN</td>\n",
       "      <td>NaN</td>\n",
       "      <td>NaN</td>\n",
       "    </tr>\n",
       "    <tr>\n",
       "      <th>...</th>\n",
       "      <td>...</td>\n",
       "      <td>...</td>\n",
       "      <td>...</td>\n",
       "      <td>...</td>\n",
       "      <td>...</td>\n",
       "      <td>...</td>\n",
       "      <td>...</td>\n",
       "      <td>...</td>\n",
       "      <td>...</td>\n",
       "      <td>...</td>\n",
       "      <td>...</td>\n",
       "    </tr>\n",
       "    <tr>\n",
       "      <th>3577</th>\n",
       "      <td>0</td>\n",
       "      <td>NaN</td>\n",
       "      <td>NaN</td>\n",
       "      <td>NaN</td>\n",
       "      <td>NaN</td>\n",
       "      <td>NaN</td>\n",
       "      <td>NaN</td>\n",
       "      <td>NaN</td>\n",
       "      <td>NaN</td>\n",
       "      <td>NaN</td>\n",
       "      <td>NaN</td>\n",
       "    </tr>\n",
       "    <tr>\n",
       "      <th>3579</th>\n",
       "      <td>0</td>\n",
       "      <td>NaN</td>\n",
       "      <td>NaN</td>\n",
       "      <td>NaN</td>\n",
       "      <td>NaN</td>\n",
       "      <td>NaN</td>\n",
       "      <td>NaN</td>\n",
       "      <td>NaN</td>\n",
       "      <td>NaN</td>\n",
       "      <td>NaN</td>\n",
       "      <td>NaN</td>\n",
       "    </tr>\n",
       "    <tr>\n",
       "      <th>3581</th>\n",
       "      <td>0</td>\n",
       "      <td>NaN</td>\n",
       "      <td>NaN</td>\n",
       "      <td>NaN</td>\n",
       "      <td>NaN</td>\n",
       "      <td>NaN</td>\n",
       "      <td>NaN</td>\n",
       "      <td>NaN</td>\n",
       "      <td>NaN</td>\n",
       "      <td>NaN</td>\n",
       "      <td>NaN</td>\n",
       "    </tr>\n",
       "    <tr>\n",
       "      <th>3582</th>\n",
       "      <td>0</td>\n",
       "      <td>NaN</td>\n",
       "      <td>NaN</td>\n",
       "      <td>NaN</td>\n",
       "      <td>NaN</td>\n",
       "      <td>NaN</td>\n",
       "      <td>NaN</td>\n",
       "      <td>NaN</td>\n",
       "      <td>NaN</td>\n",
       "      <td>NaN</td>\n",
       "      <td>NaN</td>\n",
       "    </tr>\n",
       "    <tr>\n",
       "      <th>3584</th>\n",
       "      <td>0</td>\n",
       "      <td>NaN</td>\n",
       "      <td>NaN</td>\n",
       "      <td>NaN</td>\n",
       "      <td>NaN</td>\n",
       "      <td>NaN</td>\n",
       "      <td>NaN</td>\n",
       "      <td>NaN</td>\n",
       "      <td>NaN</td>\n",
       "      <td>NaN</td>\n",
       "      <td>NaN</td>\n",
       "    </tr>\n",
       "  </tbody>\n",
       "</table>\n",
       "<p>756 rows × 11 columns</p>\n",
       "</div>"
      ],
      "text/plain": [
       "      number_of_reviews first_review last_review  review_scores_rating  \\\n",
       "0                     0          NaN         NaN                   NaN   \n",
       "18                    0          NaN         NaN                   NaN   \n",
       "32                    0          NaN         NaN                   NaN   \n",
       "36                    0          NaN         NaN                   NaN   \n",
       "53                    0          NaN         NaN                   NaN   \n",
       "...                 ...          ...         ...                   ...   \n",
       "3577                  0          NaN         NaN                   NaN   \n",
       "3579                  0          NaN         NaN                   NaN   \n",
       "3581                  0          NaN         NaN                   NaN   \n",
       "3582                  0          NaN         NaN                   NaN   \n",
       "3584                  0          NaN         NaN                   NaN   \n",
       "\n",
       "      review_scores_accuracy  review_scores_cleanliness  \\\n",
       "0                        NaN                        NaN   \n",
       "18                       NaN                        NaN   \n",
       "32                       NaN                        NaN   \n",
       "36                       NaN                        NaN   \n",
       "53                       NaN                        NaN   \n",
       "...                      ...                        ...   \n",
       "3577                     NaN                        NaN   \n",
       "3579                     NaN                        NaN   \n",
       "3581                     NaN                        NaN   \n",
       "3582                     NaN                        NaN   \n",
       "3584                     NaN                        NaN   \n",
       "\n",
       "      review_scores_checkin  review_scores_communication  \\\n",
       "0                       NaN                          NaN   \n",
       "18                      NaN                          NaN   \n",
       "32                      NaN                          NaN   \n",
       "36                      NaN                          NaN   \n",
       "53                      NaN                          NaN   \n",
       "...                     ...                          ...   \n",
       "3577                    NaN                          NaN   \n",
       "3579                    NaN                          NaN   \n",
       "3581                    NaN                          NaN   \n",
       "3582                    NaN                          NaN   \n",
       "3584                    NaN                          NaN   \n",
       "\n",
       "      review_scores_location  review_scores_value  reviews_per_month  \n",
       "0                        NaN                  NaN                NaN  \n",
       "18                       NaN                  NaN                NaN  \n",
       "32                       NaN                  NaN                NaN  \n",
       "36                       NaN                  NaN                NaN  \n",
       "53                       NaN                  NaN                NaN  \n",
       "...                      ...                  ...                ...  \n",
       "3577                     NaN                  NaN                NaN  \n",
       "3579                     NaN                  NaN                NaN  \n",
       "3581                     NaN                  NaN                NaN  \n",
       "3582                     NaN                  NaN                NaN  \n",
       "3584                     NaN                  NaN                NaN  \n",
       "\n",
       "[756 rows x 11 columns]"
      ]
     },
     "execution_count": 25,
     "metadata": {},
     "output_type": "execute_result"
    }
   ],
   "source": [
    "to_drop1"
   ]
  },
  {
   "cell_type": "code",
   "execution_count": 26,
   "id": "06712298",
   "metadata": {},
   "outputs": [],
   "source": [
    "# drop all rows without reviews\n",
    "listings.drop(to_drop1.index, inplace = True)"
   ]
  },
  {
   "cell_type": "markdown",
   "id": "e6cbe22c",
   "metadata": {},
   "source": [
    "Now, we will check if we have any other null reviews values."
   ]
  },
  {
   "cell_type": "code",
   "execution_count": 28,
   "id": "18006bb4",
   "metadata": {},
   "outputs": [],
   "source": [
    "listings_reviews1 = listings[[x for x in listings.columns if 'review' in x]]"
   ]
  },
  {
   "cell_type": "code",
   "execution_count": 29,
   "id": "9eef176b",
   "metadata": {},
   "outputs": [
    {
     "data": {
      "text/plain": [
       "review_scores_accuracy         2.368328\n",
       "review_scores_location         2.332980\n",
       "review_scores_value            2.297632\n",
       "review_scores_checkin          2.262283\n",
       "review_scores_cleanliness      2.191587\n",
       "review_scores_communication    2.191587\n",
       "review_scores_rating           2.014846\n",
       "number_of_reviews              0.000000\n",
       "first_review                   0.000000\n",
       "last_review                    0.000000\n",
       "reviews_per_month              0.000000\n",
       "dtype: float64"
      ]
     },
     "execution_count": 29,
     "metadata": {},
     "output_type": "execute_result"
    }
   ],
   "source": [
    "(listings_reviews1.isnull().sum()/len(listings_reviews1)*100).sort_values(ascending=False)"
   ]
  },
  {
   "cell_type": "markdown",
   "id": "103843dc",
   "metadata": {},
   "source": [
    "We still have some columns with null values. We will not drop those as they might be usefull to our analysis. \n",
    "We will fill those rows with the mean.\n",
    "We will be using the mean because in the listings_reviews.describe() we did few cells earlier. The smallest values in all those table where greater than 0. \n",
    "It will be more usefull to fill them with the mean."
   ]
  },
  {
   "cell_type": "code",
   "execution_count": 30,
   "id": "efda854e",
   "metadata": {},
   "outputs": [],
   "source": [
    "# grouping all remaining reviews columns with null values\n",
    "tobe_filled = [cols for cols in listings_reviews1.columns.values if (listings_reviews1[cols].isnull().sum()/len(listings_reviews1)*100)>=2]"
   ]
  },
  {
   "cell_type": "code",
   "execution_count": 31,
   "id": "826755b5",
   "metadata": {},
   "outputs": [
    {
     "data": {
      "text/plain": [
       "['review_scores_rating',\n",
       " 'review_scores_accuracy',\n",
       " 'review_scores_cleanliness',\n",
       " 'review_scores_checkin',\n",
       " 'review_scores_communication',\n",
       " 'review_scores_location',\n",
       " 'review_scores_value']"
      ]
     },
     "execution_count": 31,
     "metadata": {},
     "output_type": "execute_result"
    }
   ],
   "source": [
    "tobe_filled"
   ]
  },
  {
   "cell_type": "code",
   "execution_count": 32,
   "id": "1842f39f",
   "metadata": {},
   "outputs": [],
   "source": [
    "# Fill the null vlaues with the mean\n",
    "listings[tobe_filled] = listings[tobe_filled].fillna(value=round(listings[tobe_filled].mean()))"
   ]
  },
  {
   "cell_type": "markdown",
   "id": "9bcf5cce",
   "metadata": {},
   "source": [
    "### Let's analyse the calendar data we have"
   ]
  },
  {
   "cell_type": "code",
   "execution_count": 33,
   "id": "1adc0105",
   "metadata": {},
   "outputs": [],
   "source": [
    "#Analyse and prepare the calendar data"
   ]
  },
  {
   "cell_type": "code",
   "execution_count": 34,
   "id": "aaf066de",
   "metadata": {},
   "outputs": [
    {
     "name": "stdout",
     "output_type": "stream",
     "text": [
      "<class 'pandas.core.frame.DataFrame'>\n",
      "RangeIndex: 1308890 entries, 0 to 1308889\n",
      "Data columns (total 4 columns):\n",
      " #   Column      Non-Null Count    Dtype \n",
      "---  ------      --------------    ----- \n",
      " 0   listing_id  1308890 non-null  int64 \n",
      " 1   date        1308890 non-null  object\n",
      " 2   available   1308890 non-null  object\n",
      " 3   price       643037 non-null   object\n",
      "dtypes: int64(1), object(3)\n",
      "memory usage: 39.9+ MB\n"
     ]
    }
   ],
   "source": [
    "calendar.info()"
   ]
  },
  {
   "cell_type": "code",
   "execution_count": 291,
   "id": "f74d423c",
   "metadata": {},
   "outputs": [
    {
     "data": {
      "text/html": [
       "<div>\n",
       "<style scoped>\n",
       "    .dataframe tbody tr th:only-of-type {\n",
       "        vertical-align: middle;\n",
       "    }\n",
       "\n",
       "    .dataframe tbody tr th {\n",
       "        vertical-align: top;\n",
       "    }\n",
       "\n",
       "    .dataframe thead th {\n",
       "        text-align: right;\n",
       "    }\n",
       "</style>\n",
       "<table border=\"1\" class=\"dataframe\">\n",
       "  <thead>\n",
       "    <tr style=\"text-align: right;\">\n",
       "      <th></th>\n",
       "      <th>listing_id</th>\n",
       "      <th>price</th>\n",
       "      <th>month</th>\n",
       "      <th>year</th>\n",
       "    </tr>\n",
       "  </thead>\n",
       "  <tbody>\n",
       "    <tr>\n",
       "      <th>count</th>\n",
       "      <td>1.308890e+06</td>\n",
       "      <td>643037.000000</td>\n",
       "      <td>1.308890e+06</td>\n",
       "      <td>1.308890e+06</td>\n",
       "    </tr>\n",
       "    <tr>\n",
       "      <th>mean</th>\n",
       "      <td>8.442118e+06</td>\n",
       "      <td>198.438909</td>\n",
       "      <td>6.526027e+00</td>\n",
       "      <td>2.016679e+03</td>\n",
       "    </tr>\n",
       "    <tr>\n",
       "      <th>std</th>\n",
       "      <td>4.500149e+06</td>\n",
       "      <td>180.142913</td>\n",
       "      <td>3.447853e+00</td>\n",
       "      <td>4.666874e-01</td>\n",
       "    </tr>\n",
       "    <tr>\n",
       "      <th>min</th>\n",
       "      <td>3.353000e+03</td>\n",
       "      <td>11.000000</td>\n",
       "      <td>1.000000e+00</td>\n",
       "      <td>2.016000e+03</td>\n",
       "    </tr>\n",
       "    <tr>\n",
       "      <th>25%</th>\n",
       "      <td>4.679319e+06</td>\n",
       "      <td>85.000000</td>\n",
       "      <td>4.000000e+00</td>\n",
       "      <td>2.016000e+03</td>\n",
       "    </tr>\n",
       "    <tr>\n",
       "      <th>50%</th>\n",
       "      <td>8.578710e+06</td>\n",
       "      <td>150.000000</td>\n",
       "      <td>7.000000e+00</td>\n",
       "      <td>2.017000e+03</td>\n",
       "    </tr>\n",
       "    <tr>\n",
       "      <th>75%</th>\n",
       "      <td>1.279603e+07</td>\n",
       "      <td>255.000000</td>\n",
       "      <td>1.000000e+01</td>\n",
       "      <td>2.017000e+03</td>\n",
       "    </tr>\n",
       "    <tr>\n",
       "      <th>max</th>\n",
       "      <td>1.493346e+07</td>\n",
       "      <td>7163.000000</td>\n",
       "      <td>1.200000e+01</td>\n",
       "      <td>2.017000e+03</td>\n",
       "    </tr>\n",
       "  </tbody>\n",
       "</table>\n",
       "</div>"
      ],
      "text/plain": [
       "         listing_id          price         month          year\n",
       "count  1.308890e+06  643037.000000  1.308890e+06  1.308890e+06\n",
       "mean   8.442118e+06     198.438909  6.526027e+00  2.016679e+03\n",
       "std    4.500149e+06     180.142913  3.447853e+00  4.666874e-01\n",
       "min    3.353000e+03      11.000000  1.000000e+00  2.016000e+03\n",
       "25%    4.679319e+06      85.000000  4.000000e+00  2.016000e+03\n",
       "50%    8.578710e+06     150.000000  7.000000e+00  2.017000e+03\n",
       "75%    1.279603e+07     255.000000  1.000000e+01  2.017000e+03\n",
       "max    1.493346e+07    7163.000000  1.200000e+01  2.017000e+03"
      ]
     },
     "execution_count": 291,
     "metadata": {},
     "output_type": "execute_result"
    }
   ],
   "source": [
    "calendar.describe()"
   ]
  },
  {
   "cell_type": "code",
   "execution_count": 41,
   "id": "698e38bf",
   "metadata": {},
   "outputs": [
    {
     "data": {
      "text/html": [
       "<div>\n",
       "<style scoped>\n",
       "    .dataframe tbody tr th:only-of-type {\n",
       "        vertical-align: middle;\n",
       "    }\n",
       "\n",
       "    .dataframe tbody tr th {\n",
       "        vertical-align: top;\n",
       "    }\n",
       "\n",
       "    .dataframe thead th {\n",
       "        text-align: right;\n",
       "    }\n",
       "</style>\n",
       "<table border=\"1\" class=\"dataframe\">\n",
       "  <thead>\n",
       "    <tr style=\"text-align: right;\">\n",
       "      <th></th>\n",
       "      <th>listing_id</th>\n",
       "      <th>date</th>\n",
       "      <th>available</th>\n",
       "      <th>price</th>\n",
       "      <th>month</th>\n",
       "      <th>year</th>\n",
       "      <th>yearmonth</th>\n",
       "    </tr>\n",
       "  </thead>\n",
       "  <tbody>\n",
       "    <tr>\n",
       "      <th>0</th>\n",
       "      <td>12147973</td>\n",
       "      <td>2017-09-05</td>\n",
       "      <td>f</td>\n",
       "      <td>NaN</td>\n",
       "      <td>9</td>\n",
       "      <td>2017</td>\n",
       "      <td>2017-09</td>\n",
       "    </tr>\n",
       "    <tr>\n",
       "      <th>1</th>\n",
       "      <td>12147973</td>\n",
       "      <td>2017-09-04</td>\n",
       "      <td>f</td>\n",
       "      <td>NaN</td>\n",
       "      <td>9</td>\n",
       "      <td>2017</td>\n",
       "      <td>2017-09</td>\n",
       "    </tr>\n",
       "    <tr>\n",
       "      <th>2</th>\n",
       "      <td>12147973</td>\n",
       "      <td>2017-09-03</td>\n",
       "      <td>f</td>\n",
       "      <td>NaN</td>\n",
       "      <td>9</td>\n",
       "      <td>2017</td>\n",
       "      <td>2017-09</td>\n",
       "    </tr>\n",
       "    <tr>\n",
       "      <th>3</th>\n",
       "      <td>12147973</td>\n",
       "      <td>2017-09-02</td>\n",
       "      <td>f</td>\n",
       "      <td>NaN</td>\n",
       "      <td>9</td>\n",
       "      <td>2017</td>\n",
       "      <td>2017-09</td>\n",
       "    </tr>\n",
       "    <tr>\n",
       "      <th>4</th>\n",
       "      <td>12147973</td>\n",
       "      <td>2017-09-01</td>\n",
       "      <td>f</td>\n",
       "      <td>NaN</td>\n",
       "      <td>9</td>\n",
       "      <td>2017</td>\n",
       "      <td>2017-09</td>\n",
       "    </tr>\n",
       "  </tbody>\n",
       "</table>\n",
       "</div>"
      ],
      "text/plain": [
       "   listing_id       date available  price  month  year yearmonth\n",
       "0    12147973 2017-09-05         f    NaN      9  2017   2017-09\n",
       "1    12147973 2017-09-04         f    NaN      9  2017   2017-09\n",
       "2    12147973 2017-09-03         f    NaN      9  2017   2017-09\n",
       "3    12147973 2017-09-02         f    NaN      9  2017   2017-09\n",
       "4    12147973 2017-09-01         f    NaN      9  2017   2017-09"
      ]
     },
     "execution_count": 41,
     "metadata": {},
     "output_type": "execute_result"
    }
   ],
   "source": [
    "calendar.head()"
   ]
  },
  {
   "cell_type": "markdown",
   "id": "675a5b03",
   "metadata": {},
   "source": [
    "The calendar data does not contain usefull information to our analysis. We will not comtinue ivestigating it further."
   ]
  },
  {
   "cell_type": "markdown",
   "id": "938a5197",
   "metadata": {},
   "source": [
    "### Analysing the revilews data"
   ]
  },
  {
   "cell_type": "code",
   "execution_count": 44,
   "id": "234665e4",
   "metadata": {},
   "outputs": [
    {
     "data": {
      "text/plain": [
       "Index(['listing_id', 'id', 'date', 'reviewer_id', 'reviewer_name', 'comments'], dtype='object')"
      ]
     },
     "execution_count": 44,
     "metadata": {},
     "output_type": "execute_result"
    }
   ],
   "source": [
    "reviews.columns"
   ]
  },
  {
   "cell_type": "code",
   "execution_count": 45,
   "id": "6f728706",
   "metadata": {},
   "outputs": [
    {
     "name": "stdout",
     "output_type": "stream",
     "text": [
      "<class 'pandas.core.frame.DataFrame'>\n",
      "RangeIndex: 68275 entries, 0 to 68274\n",
      "Data columns (total 6 columns):\n",
      " #   Column         Non-Null Count  Dtype \n",
      "---  ------         --------------  ----- \n",
      " 0   listing_id     68275 non-null  int64 \n",
      " 1   id             68275 non-null  int64 \n",
      " 2   date           68275 non-null  object\n",
      " 3   reviewer_id    68275 non-null  int64 \n",
      " 4   reviewer_name  68275 non-null  object\n",
      " 5   comments       68222 non-null  object\n",
      "dtypes: int64(3), object(3)\n",
      "memory usage: 3.1+ MB\n"
     ]
    }
   ],
   "source": [
    "reviews.info()"
   ]
  },
  {
   "cell_type": "code",
   "execution_count": 46,
   "id": "b4aae5c0",
   "metadata": {},
   "outputs": [
    {
     "data": {
      "text/html": [
       "<div>\n",
       "<style scoped>\n",
       "    .dataframe tbody tr th:only-of-type {\n",
       "        vertical-align: middle;\n",
       "    }\n",
       "\n",
       "    .dataframe tbody tr th {\n",
       "        vertical-align: top;\n",
       "    }\n",
       "\n",
       "    .dataframe thead th {\n",
       "        text-align: right;\n",
       "    }\n",
       "</style>\n",
       "<table border=\"1\" class=\"dataframe\">\n",
       "  <thead>\n",
       "    <tr style=\"text-align: right;\">\n",
       "      <th></th>\n",
       "      <th>listing_id</th>\n",
       "      <th>id</th>\n",
       "      <th>date</th>\n",
       "      <th>reviewer_id</th>\n",
       "      <th>reviewer_name</th>\n",
       "      <th>comments</th>\n",
       "    </tr>\n",
       "  </thead>\n",
       "  <tbody>\n",
       "    <tr>\n",
       "      <th>0</th>\n",
       "      <td>1178162</td>\n",
       "      <td>4724140</td>\n",
       "      <td>2013-05-21</td>\n",
       "      <td>4298113</td>\n",
       "      <td>Olivier</td>\n",
       "      <td>My stay at islam's place was really cool! Good...</td>\n",
       "    </tr>\n",
       "    <tr>\n",
       "      <th>1</th>\n",
       "      <td>1178162</td>\n",
       "      <td>4869189</td>\n",
       "      <td>2013-05-29</td>\n",
       "      <td>6452964</td>\n",
       "      <td>Charlotte</td>\n",
       "      <td>Great location for both airport and city - gre...</td>\n",
       "    </tr>\n",
       "    <tr>\n",
       "      <th>2</th>\n",
       "      <td>1178162</td>\n",
       "      <td>5003196</td>\n",
       "      <td>2013-06-06</td>\n",
       "      <td>6449554</td>\n",
       "      <td>Sebastian</td>\n",
       "      <td>We really enjoyed our stay at Islams house. Fr...</td>\n",
       "    </tr>\n",
       "    <tr>\n",
       "      <th>3</th>\n",
       "      <td>1178162</td>\n",
       "      <td>5150351</td>\n",
       "      <td>2013-06-15</td>\n",
       "      <td>2215611</td>\n",
       "      <td>Marine</td>\n",
       "      <td>The room was nice and clean and so were the co...</td>\n",
       "    </tr>\n",
       "    <tr>\n",
       "      <th>4</th>\n",
       "      <td>1178162</td>\n",
       "      <td>5171140</td>\n",
       "      <td>2013-06-16</td>\n",
       "      <td>6848427</td>\n",
       "      <td>Andrew</td>\n",
       "      <td>Great location. Just 5 mins walk from the Airp...</td>\n",
       "    </tr>\n",
       "  </tbody>\n",
       "</table>\n",
       "</div>"
      ],
      "text/plain": [
       "   listing_id       id        date  reviewer_id reviewer_name  \\\n",
       "0     1178162  4724140  2013-05-21      4298113       Olivier   \n",
       "1     1178162  4869189  2013-05-29      6452964     Charlotte   \n",
       "2     1178162  5003196  2013-06-06      6449554     Sebastian   \n",
       "3     1178162  5150351  2013-06-15      2215611        Marine   \n",
       "4     1178162  5171140  2013-06-16      6848427        Andrew   \n",
       "\n",
       "                                            comments  \n",
       "0  My stay at islam's place was really cool! Good...  \n",
       "1  Great location for both airport and city - gre...  \n",
       "2  We really enjoyed our stay at Islams house. Fr...  \n",
       "3  The room was nice and clean and so were the co...  \n",
       "4  Great location. Just 5 mins walk from the Airp...  "
      ]
     },
     "execution_count": 46,
     "metadata": {},
     "output_type": "execute_result"
    }
   ],
   "source": [
    "reviews.head()"
   ]
  },
  {
   "cell_type": "code",
   "execution_count": 47,
   "id": "11924691",
   "metadata": {},
   "outputs": [],
   "source": [
    "# We need to change the date column to a datetime \n",
    "reviews['date'] = pd.to_datetime(reviews.date) "
   ]
  },
  {
   "cell_type": "code",
   "execution_count": 48,
   "id": "0cbeaa12",
   "metadata": {},
   "outputs": [
    {
     "name": "stdout",
     "output_type": "stream",
     "text": [
      "<class 'pandas.core.frame.DataFrame'>\n",
      "RangeIndex: 68275 entries, 0 to 68274\n",
      "Data columns (total 9 columns):\n",
      " #   Column         Non-Null Count  Dtype         \n",
      "---  ------         --------------  -----         \n",
      " 0   listing_id     68275 non-null  int64         \n",
      " 1   id             68275 non-null  int64         \n",
      " 2   date           68275 non-null  datetime64[ns]\n",
      " 3   reviewer_id    68275 non-null  int64         \n",
      " 4   reviewer_name  68275 non-null  object        \n",
      " 5   comments       68222 non-null  object        \n",
      " 6   month          68275 non-null  int64         \n",
      " 7   year           68275 non-null  int64         \n",
      " 8   yearmonth      68275 non-null  period[M]     \n",
      "dtypes: datetime64[ns](1), int64(5), object(2), period[M](1)\n",
      "memory usage: 4.7+ MB\n"
     ]
    },
    {
     "name": "stderr",
     "output_type": "stream",
     "text": [
      "C:\\Users\\Dilimou\\AppData\\Local\\Temp/ipykernel_1904/540041017.py:3: FutureWarning: null_counts is deprecated. Use show_counts instead\n",
      "  reviews.info(verbose=True, null_counts=True)\n"
     ]
    }
   ],
   "source": [
    "# Let's add month and year and yearmonth column to the reviews dataset for easy plotting\n",
    "reviews['month'], reviews['year'], reviews['yearmonth'] = reviews.date.dt.month, reviews.date.dt.year, reviews.date.dt.to_period(\"M\")\n",
    "reviews.info(verbose=True, null_counts=True)"
   ]
  },
  {
   "cell_type": "code",
   "execution_count": 50,
   "id": "f6a0b68d",
   "metadata": {},
   "outputs": [
    {
     "data": {
      "text/html": [
       "<div>\n",
       "<style scoped>\n",
       "    .dataframe tbody tr th:only-of-type {\n",
       "        vertical-align: middle;\n",
       "    }\n",
       "\n",
       "    .dataframe tbody tr th {\n",
       "        vertical-align: top;\n",
       "    }\n",
       "\n",
       "    .dataframe thead th {\n",
       "        text-align: right;\n",
       "    }\n",
       "</style>\n",
       "<table border=\"1\" class=\"dataframe\">\n",
       "  <thead>\n",
       "    <tr style=\"text-align: right;\">\n",
       "      <th></th>\n",
       "      <th>listing_id</th>\n",
       "      <th>id</th>\n",
       "      <th>date</th>\n",
       "      <th>reviewer_id</th>\n",
       "      <th>reviewer_name</th>\n",
       "      <th>comments</th>\n",
       "      <th>month</th>\n",
       "      <th>year</th>\n",
       "      <th>yearmonth</th>\n",
       "    </tr>\n",
       "  </thead>\n",
       "  <tbody>\n",
       "    <tr>\n",
       "      <th>0</th>\n",
       "      <td>1178162</td>\n",
       "      <td>4724140</td>\n",
       "      <td>2013-05-21</td>\n",
       "      <td>4298113</td>\n",
       "      <td>Olivier</td>\n",
       "      <td>My stay at islam's place was really cool! Good...</td>\n",
       "      <td>5</td>\n",
       "      <td>2013</td>\n",
       "      <td>2013-05</td>\n",
       "    </tr>\n",
       "    <tr>\n",
       "      <th>1</th>\n",
       "      <td>1178162</td>\n",
       "      <td>4869189</td>\n",
       "      <td>2013-05-29</td>\n",
       "      <td>6452964</td>\n",
       "      <td>Charlotte</td>\n",
       "      <td>Great location for both airport and city - gre...</td>\n",
       "      <td>5</td>\n",
       "      <td>2013</td>\n",
       "      <td>2013-05</td>\n",
       "    </tr>\n",
       "    <tr>\n",
       "      <th>2</th>\n",
       "      <td>1178162</td>\n",
       "      <td>5003196</td>\n",
       "      <td>2013-06-06</td>\n",
       "      <td>6449554</td>\n",
       "      <td>Sebastian</td>\n",
       "      <td>We really enjoyed our stay at Islams house. Fr...</td>\n",
       "      <td>6</td>\n",
       "      <td>2013</td>\n",
       "      <td>2013-06</td>\n",
       "    </tr>\n",
       "    <tr>\n",
       "      <th>3</th>\n",
       "      <td>1178162</td>\n",
       "      <td>5150351</td>\n",
       "      <td>2013-06-15</td>\n",
       "      <td>2215611</td>\n",
       "      <td>Marine</td>\n",
       "      <td>The room was nice and clean and so were the co...</td>\n",
       "      <td>6</td>\n",
       "      <td>2013</td>\n",
       "      <td>2013-06</td>\n",
       "    </tr>\n",
       "    <tr>\n",
       "      <th>4</th>\n",
       "      <td>1178162</td>\n",
       "      <td>5171140</td>\n",
       "      <td>2013-06-16</td>\n",
       "      <td>6848427</td>\n",
       "      <td>Andrew</td>\n",
       "      <td>Great location. Just 5 mins walk from the Airp...</td>\n",
       "      <td>6</td>\n",
       "      <td>2013</td>\n",
       "      <td>2013-06</td>\n",
       "    </tr>\n",
       "    <tr>\n",
       "      <th>5</th>\n",
       "      <td>1178162</td>\n",
       "      <td>5198929</td>\n",
       "      <td>2013-06-17</td>\n",
       "      <td>6663826</td>\n",
       "      <td>Arndt</td>\n",
       "      <td>A truely exeptional place to stay. The hosts a...</td>\n",
       "      <td>6</td>\n",
       "      <td>2013</td>\n",
       "      <td>2013-06</td>\n",
       "    </tr>\n",
       "    <tr>\n",
       "      <th>6</th>\n",
       "      <td>1178162</td>\n",
       "      <td>6702817</td>\n",
       "      <td>2013-08-21</td>\n",
       "      <td>8099222</td>\n",
       "      <td>Maurice</td>\n",
       "      <td>It was a really nice time in Boston - best pla...</td>\n",
       "      <td>8</td>\n",
       "      <td>2013</td>\n",
       "      <td>2013-08</td>\n",
       "    </tr>\n",
       "    <tr>\n",
       "      <th>7</th>\n",
       "      <td>1178162</td>\n",
       "      <td>6873023</td>\n",
       "      <td>2013-08-28</td>\n",
       "      <td>7671888</td>\n",
       "      <td>Elodie</td>\n",
       "      <td>Islam is a very nice guy ! Attentive, funny, h...</td>\n",
       "      <td>8</td>\n",
       "      <td>2013</td>\n",
       "      <td>2013-08</td>\n",
       "    </tr>\n",
       "    <tr>\n",
       "      <th>8</th>\n",
       "      <td>1178162</td>\n",
       "      <td>7646702</td>\n",
       "      <td>2013-09-28</td>\n",
       "      <td>8197342</td>\n",
       "      <td>Arkadiusz</td>\n",
       "      <td>The place is really well furnished, pleasant a...</td>\n",
       "      <td>9</td>\n",
       "      <td>2013</td>\n",
       "      <td>2013-09</td>\n",
       "    </tr>\n",
       "    <tr>\n",
       "      <th>9</th>\n",
       "      <td>1178162</td>\n",
       "      <td>8094418</td>\n",
       "      <td>2013-10-15</td>\n",
       "      <td>9040491</td>\n",
       "      <td>Matthew</td>\n",
       "      <td>Our stay at Islam's place was fantastic. We co...</td>\n",
       "      <td>10</td>\n",
       "      <td>2013</td>\n",
       "      <td>2013-10</td>\n",
       "    </tr>\n",
       "  </tbody>\n",
       "</table>\n",
       "</div>"
      ],
      "text/plain": [
       "   listing_id       id       date  reviewer_id reviewer_name  \\\n",
       "0     1178162  4724140 2013-05-21      4298113       Olivier   \n",
       "1     1178162  4869189 2013-05-29      6452964     Charlotte   \n",
       "2     1178162  5003196 2013-06-06      6449554     Sebastian   \n",
       "3     1178162  5150351 2013-06-15      2215611        Marine   \n",
       "4     1178162  5171140 2013-06-16      6848427        Andrew   \n",
       "5     1178162  5198929 2013-06-17      6663826         Arndt   \n",
       "6     1178162  6702817 2013-08-21      8099222       Maurice   \n",
       "7     1178162  6873023 2013-08-28      7671888        Elodie   \n",
       "8     1178162  7646702 2013-09-28      8197342     Arkadiusz   \n",
       "9     1178162  8094418 2013-10-15      9040491       Matthew   \n",
       "\n",
       "                                            comments  month  year yearmonth  \n",
       "0  My stay at islam's place was really cool! Good...      5  2013   2013-05  \n",
       "1  Great location for both airport and city - gre...      5  2013   2013-05  \n",
       "2  We really enjoyed our stay at Islams house. Fr...      6  2013   2013-06  \n",
       "3  The room was nice and clean and so were the co...      6  2013   2013-06  \n",
       "4  Great location. Just 5 mins walk from the Airp...      6  2013   2013-06  \n",
       "5  A truely exeptional place to stay. The hosts a...      6  2013   2013-06  \n",
       "6  It was a really nice time in Boston - best pla...      8  2013   2013-08  \n",
       "7  Islam is a very nice guy ! Attentive, funny, h...      8  2013   2013-08  \n",
       "8  The place is really well furnished, pleasant a...      9  2013   2013-09  \n",
       "9  Our stay at Islam's place was fantastic. We co...     10  2013   2013-10  "
      ]
     },
     "execution_count": 50,
     "metadata": {},
     "output_type": "execute_result"
    }
   ],
   "source": [
    "reviews.head(10)"
   ]
  },
  {
   "cell_type": "code",
   "execution_count": 51,
   "id": "1e95a24d",
   "metadata": {},
   "outputs": [
    {
     "data": {
      "text/plain": [
       "comments         0.077627\n",
       "listing_id       0.000000\n",
       "id               0.000000\n",
       "date             0.000000\n",
       "reviewer_id      0.000000\n",
       "reviewer_name    0.000000\n",
       "month            0.000000\n",
       "year             0.000000\n",
       "yearmonth        0.000000\n",
       "dtype: float64"
      ]
     },
     "execution_count": 51,
     "metadata": {},
     "output_type": "execute_result"
    }
   ],
   "source": [
    "# Now, we will check for missing values in the reviews data\n",
    "\n",
    "(reviews.isnull().sum()/len(reviews)*100).sort_values(ascending=False)"
   ]
  },
  {
   "cell_type": "markdown",
   "id": "483c6665",
   "metadata": {},
   "source": [
    "We do not have much null values. The few null values lies in the comments row which is not usesd in our analysis. We do not have more prosessing to do with the reviews data."
   ]
  },
  {
   "cell_type": "markdown",
   "id": "510a660e",
   "metadata": {},
   "source": [
    "# Now we will start our analysis on the data"
   ]
  },
  {
   "cell_type": "markdown",
   "id": "495c5f44",
   "metadata": {},
   "source": [
    "Let's begin by listing the type of property that are the most listed."
   ]
  },
  {
   "cell_type": "code",
   "execution_count": 323,
   "id": "76fe7e6c",
   "metadata": {},
   "outputs": [
    {
     "data": {
      "text/plain": [
       "Text(0, 0.5, 'Number of listings')"
      ]
     },
     "execution_count": 323,
     "metadata": {},
     "output_type": "execute_result"
    },
    {
     "data": {
      "image/png": "[encoded data removed]",
      "text/plain": [
       "<Figure size 1080x576 with 1 Axes>"
      ]
     },
     "metadata": {
      "needs_background": "light"
     },
     "output_type": "display_data"
    }
   ],
   "source": [
    "#Analyzing and plotting the number of listings based on their property type\n",
    "\n",
    "propertytype = listings[['host_listings_count', 'property_type']].sort_values(by = 'property_type')\n",
    "\n",
    "propertytype.groupby(['property_type'])['host_listings_count'].count().plot(kind='bar', \n",
    "           x='property_type',\n",
    "           y='Number_Of_Listings',\n",
    "           figsize =(15,8), \n",
    "           title = 'boston Property Type Frequency', \n",
    "           legend = False)\n",
    "plt.ylabel('property type')\n",
    "plt.ylabel('Number of listings')"
   ]
  },
  {
   "cell_type": "markdown",
   "id": "56afb7d0",
   "metadata": {},
   "source": [
    "The most listed places we have in the dataset are in these order: Appartment, House, condominium."
   ]
  },
  {
   "cell_type": "markdown",
   "id": "05146d7b",
   "metadata": {},
   "source": [
    "### Analysing the relationship between price and number of reviews"
   ]
  },
  {
   "cell_type": "code",
   "execution_count": 296,
   "id": "6487b834",
   "metadata": {},
   "outputs": [
    {
     "data": {
      "text/plain": [
       "Text(0, 0.5, 'Number of reviews')"
      ]
     },
     "execution_count": 296,
     "metadata": {},
     "output_type": "execute_result"
    },
    {
     "data": {
      "image/png": "[encoded data removed]",
      "text/plain": [
       "<Figure size 1224x720 with 1 Axes>"
      ]
     },
     "metadata": {
      "needs_background": "light"
     },
     "output_type": "display_data"
    }
   ],
   "source": [
    "#Interpreting the relation between number of reviews and price\n",
    "\n",
    "price_review = listings[['number_of_reviews', 'price']].sort_values(by = 'price')\n",
    "\n",
    "price_review.plot(x = 'price', \n",
    "                  y = 'number_of_reviews', \n",
    "                  style = 'o',\n",
    "                  figsize =(17,10),\n",
    "                  legend = False,\n",
    "                  title = 'Reviews based on Price')\n",
    "\n",
    "plt.xlabel(\"price\")\n",
    "plt.ylabel(\"Number of reviews\")"
   ]
  },
  {
   "cell_type": "markdown",
   "id": "efad9307",
   "metadata": {},
   "source": [
    "From the graph, the reviews were most observed for the listings that have a price range around 100 - 400. The number quickly declines as the price goes up.\n",
    "Let's plot the data between the price range <=100 and see if we can have a clearer interpretation."
   ]
  },
  {
   "cell_type": "code",
   "execution_count": 306,
   "id": "837c56fe",
   "metadata": {},
   "outputs": [
    {
     "data": {
      "text/plain": [
       "Text(0, 0.5, 'Number of reviews')"
      ]
     },
     "execution_count": 306,
     "metadata": {},
     "output_type": "execute_result"
    },
    {
     "data": {
      "image/png": "[encoded data removed]",
      "text/plain": [
       "<Figure size 1224x720 with 1 Axes>"
      ]
     },
     "metadata": {
      "needs_background": "light"
     },
     "output_type": "display_data"
    }
   ],
   "source": [
    "#Interpreting the relation between number of reviews and price\n",
    "\n",
    "price_review = listings[['number_of_reviews', 'price']].sort_values(by = 'price')\n",
    "price_review1 = price_review[price_review['price'] <= 100]\n",
    "\n",
    "price_review1.plot(x = 'price', \n",
    "                  y = 'number_of_reviews', \n",
    "                  style = 'o',\n",
    "                  figsize =(17,10),\n",
    "                  legend = False,\n",
    "                  title = 'Reviews based on Price')\n",
    "\n",
    "plt.xlabel(\"price\")\n",
    "plt.ylabel(\"Number of reviews\")"
   ]
  },
  {
   "cell_type": "markdown",
   "id": "6a67ff2b",
   "metadata": {},
   "source": [
    "We can see that for a particular price the number of reviews is quite ransom, thus it is not showing any relationshitp between the price and the number a reviews.\n",
    "Lets group the data by price in order to have a better view of the accumulated number of reviews for a given price."
   ]
  },
  {
   "cell_type": "code",
   "execution_count": 304,
   "id": "4a781167",
   "metadata": {},
   "outputs": [
    {
     "data": {
      "text/plain": [
       "Text(0, 0.5, 'Number of reviews')"
      ]
     },
     "execution_count": 304,
     "metadata": {},
     "output_type": "execute_result"
    },
    {
     "data": {
      "image/png": "[encoded data removed]",
      "text/plain": [
       "<Figure size 1224x720 with 1 Axes>"
      ]
     },
     "metadata": {
      "needs_background": "light"
     },
     "output_type": "display_data"
    }
   ],
   "source": [
    "#Interpreting the relation between number of reviews and price\n",
    "\n",
    "price_review = listings[['number_of_reviews', 'price']].sort_values(by = 'price')\n",
    "\n",
    "price_review.groupby(['price'])['number_of_reviews'].count().plot(x = 'price', \n",
    "                  y = 'number_of_reviews', \n",
    "                  style = 'o',\n",
    "                  figsize =(17,10),\n",
    "                  legend = False,\n",
    "                  title = 'Reviews based on Price')\n",
    "\n",
    "plt.xlabel(\"price\")\n",
    "plt.ylabel(\"Number of reviews\")"
   ]
  },
  {
   "cell_type": "code",
   "execution_count": 305,
   "id": "0d3d38c7",
   "metadata": {},
   "outputs": [
    {
     "data": {
      "text/plain": [
       "Text(0, 0.5, 'Number of reviews')"
      ]
     },
     "execution_count": 305,
     "metadata": {},
     "output_type": "execute_result"
    },
    {
     "data": {
      "image/png": "[encoded data removed]",
      "text/plain": [
       "<Figure size 1224x720 with 1 Axes>"
      ]
     },
     "metadata": {
      "needs_background": "light"
     },
     "output_type": "display_data"
    }
   ],
   "source": [
    "#Interpreting the relation between number of reviews and price\n",
    "\n",
    "price_review = listings[['number_of_reviews', 'price']].sort_values(by = 'price')\n",
    "price_review1 = price_review[price_review['price'] <= 100]\n",
    "\n",
    "price_review1.groupby(['price'])['number_of_reviews'].count().plot(x = 'price', \n",
    "                  y = 'number_of_reviews', \n",
    "                  style = 'o',\n",
    "                  figsize =(17,10),\n",
    "                  legend = False,\n",
    "                  title = 'Reviews based on Price')\n",
    "\n",
    "plt.xlabel(\"price\")\n",
    "plt.ylabel(\"Number of reviews\")"
   ]
  },
  {
   "cell_type": "markdown",
   "id": "8f24f0b0",
   "metadata": {},
   "source": [
    "**This conclude, the price does not necessarly influence the reviews. Thus, the Price have no relation with the Number of reviews.**\n",
    "\n",
    "This answers the question: Do users tend to give more reviews to expensive listings? \n",
    "\n",
    "The answer is no, even though we see the number of reviews is greater for houses with a price lower or equal 400. Those number of reviews are very random per listings."
   ]
  },
  {
   "cell_type": "markdown",
   "id": "4a2c6bf6",
   "metadata": {},
   "source": [
    "### Analysing the relationship between the number of reviews and the review score"
   ]
  },
  {
   "cell_type": "code",
   "execution_count": 293,
   "id": "dd0833e1",
   "metadata": {},
   "outputs": [
    {
     "data": {
      "text/plain": [
       "Text(0, 0.5, 'Number of reviews')"
      ]
     },
     "execution_count": 293,
     "metadata": {},
     "output_type": "execute_result"
    },
    {
     "data": {
      "image/png": "[encoded data removed]",
      "text/plain": [
       "<Figure size 1224x720 with 1 Axes>"
      ]
     },
     "metadata": {
      "needs_background": "light"
     },
     "output_type": "display_data"
    }
   ],
   "source": [
    "#Interpreting the relation between number of reviews and review_scores_rating \n",
    "\n",
    "\n",
    "price_review = listings[['number_of_reviews', 'review_scores_rating']].sort_values(by = 'review_scores_rating')\n",
    "\n",
    "price_review.plot(x = 'review_scores_rating', \n",
    "                  y = 'number_of_reviews', \n",
    "                  style = 'o',\n",
    "                  figsize =(17,10),\n",
    "                  legend = False,\n",
    "                  title = 'Reviews based on review_scores_rating')\n",
    "\n",
    "plt.xlabel(\"review_scores_rating\")\n",
    "plt.ylabel(\"Number of reviews\")"
   ]
  },
  {
   "cell_type": "markdown",
   "id": "00ce1824",
   "metadata": {},
   "source": [
    "The majority of our data pooint is on the second half of the graph with the reviews score between 70 and 100. We can't see any definilte relationship between the number of reviews and the review score.\n",
    "Let's narrow down our view point to the review score between 70 to 100."
   ]
  },
  {
   "cell_type": "code",
   "execution_count": 308,
   "id": "69325c2f",
   "metadata": {},
   "outputs": [
    {
     "data": {
      "text/plain": [
       "Text(0, 0.5, 'Number of reviews')"
      ]
     },
     "execution_count": 308,
     "metadata": {},
     "output_type": "execute_result"
    },
    {
     "data": {
      "image/png": "[encoded data removed]",
      "text/plain": [
       "<Figure size 1224x720 with 1 Axes>"
      ]
     },
     "metadata": {
      "needs_background": "light"
     },
     "output_type": "display_data"
    }
   ],
   "source": [
    "#Interpreting the relation between number of reviews and review_scores_rating \n",
    "\n",
    "\n",
    "price_review = listings[['number_of_reviews', 'review_scores_rating']].sort_values(by = 'review_scores_rating')\n",
    "price_review1 = price_review[price_review['review_scores_rating'] >70 ]\n",
    "price_review1.plot(x = 'review_scores_rating', \n",
    "                  y = 'number_of_reviews', \n",
    "                  style = 'o',\n",
    "                  figsize =(17,10),\n",
    "                  legend = False,\n",
    "                  title = 'Reviews based on review_scores_rating')\n",
    "\n",
    "plt.xlabel(\"review_scores_rating\")\n",
    "plt.ylabel(\"Number of reviews\")"
   ]
  },
  {
   "cell_type": "markdown",
   "id": "0eb3af4e",
   "metadata": {},
   "source": [
    "There is no clear relation showing between these two values. Let's take a closer look by grouping the data by review scores."
   ]
  },
  {
   "cell_type": "code",
   "execution_count": 309,
   "id": "af39738e",
   "metadata": {},
   "outputs": [
    {
     "data": {
      "text/plain": [
       "Text(0, 0.5, 'Number of reviews')"
      ]
     },
     "execution_count": 309,
     "metadata": {},
     "output_type": "execute_result"
    },
    {
     "data": {
      "image/png": "[encoded data removed]",
      "text/plain": [
       "<Figure size 1224x720 with 1 Axes>"
      ]
     },
     "metadata": {
      "needs_background": "light"
     },
     "output_type": "display_data"
    }
   ],
   "source": [
    "#Interpreting the relation between number of reviews and review_scores_rating \n",
    "\n",
    "\n",
    "price_review = listings[['number_of_reviews', 'review_scores_rating']].sort_values(by = 'review_scores_rating')\n",
    "\n",
    "price_review.groupby(['review_scores_rating'])['number_of_reviews'].count().plot(x = 'review_scores_rating', \n",
    "                  y = 'number_of_reviews', \n",
    "                  style = 'o',\n",
    "                  figsize =(17,10),\n",
    "                  legend = False,\n",
    "                  title = 'Reviews based on review_scores_rating')\n",
    "\n",
    "plt.xlabel(\"review_scores_rating\")\n",
    "plt.ylabel(\"Number of reviews\")"
   ]
  },
  {
   "cell_type": "code",
   "execution_count": 310,
   "id": "65731d1c",
   "metadata": {},
   "outputs": [
    {
     "data": {
      "text/plain": [
       "Text(0, 0.5, 'Number of reviews')"
      ]
     },
     "execution_count": 310,
     "metadata": {},
     "output_type": "execute_result"
    },
    {
     "data": {
      "image/png": "[encoded data removed]",
      "text/plain": [
       "<Figure size 1224x720 with 1 Axes>"
      ]
     },
     "metadata": {
      "needs_background": "light"
     },
     "output_type": "display_data"
    }
   ],
   "source": [
    "#Interpreting the relation between number of reviews and review_scores_rating \n",
    "\n",
    "\n",
    "price_review = listings[['number_of_reviews', 'review_scores_rating']].sort_values(by = 'review_scores_rating')\n",
    "price_review1 = price_review[price_review['review_scores_rating'] >70 ]\n",
    "\n",
    "price_review1.groupby(['review_scores_rating'])['number_of_reviews'].count().plot(x = 'review_scores_rating', \n",
    "                  y = 'number_of_reviews', \n",
    "                  style = 'o',\n",
    "                  figsize =(17,10),\n",
    "                  legend = False,\n",
    "                  title = 'Reviews based on review_scores_rating')\n",
    "\n",
    "plt.xlabel(\"review_scores_rating\")\n",
    "plt.ylabel(\"Number of reviews\")"
   ]
  },
  {
   "cell_type": "markdown",
   "id": "8fa4fecb",
   "metadata": {},
   "source": [
    "Rating a listing because of the amount of previews ratings might be a thling among the users from time to time, but there is no clear relationship as showned on the multiple graph. Therefore, there is no relationship between the number of reviews and the review score.\n",
    "\n",
    "This answers the question: Do users tend to rate a listing becsue it has multiple reviews in the past?\n",
    "\n",
    "The answer is no, although it might happen in few instenses."
   ]
  },
  {
   "cell_type": "markdown",
   "id": "c3476903",
   "metadata": {},
   "source": [
    "### Analysing the relationship between number of listilngs and the rasting scores"
   ]
  },
  {
   "cell_type": "code",
   "execution_count": 316,
   "id": "6393d88d",
   "metadata": {},
   "outputs": [
    {
     "data": {
      "text/plain": [
       "Text(0, 0.5, 'host_listings_count')"
      ]
     },
     "execution_count": 316,
     "metadata": {},
     "output_type": "execute_result"
    },
    {
     "data": {
      "image/png": "[encoded data removed]",
      "text/plain": [
       "<Figure size 1224x720 with 1 Axes>"
      ]
     },
     "metadata": {
      "needs_background": "light"
     },
     "output_type": "display_data"
    }
   ],
   "source": [
    "#Interpreting the relation between number of reviews and number of listings\n",
    "\n",
    "price_review = listings[['host_listings_count', 'review_scores_rating']].sort_values(by = 'review_scores_rating')\n",
    "\n",
    "price_review.plot(x = 'review_scores_rating', \n",
    "                  y = 'host_listings_count', \n",
    "                  style = 'o',\n",
    "                  figsize =(17,10),\n",
    "                  legend = False,\n",
    "                  title = 'Reviews based on host_listings_count')\n",
    "\n",
    "plt.xlabel(\"review_scores_rating\")\n",
    "plt.ylabel(\"host_listings_count\")"
   ]
  },
  {
   "cell_type": "markdown",
   "id": "71036f17",
   "metadata": {},
   "source": [
    "The majority of the data point are located between revieww scores 70 and 100. let's narrow down the graph to those values."
   ]
  },
  {
   "cell_type": "code",
   "execution_count": 319,
   "id": "0db3ef7f",
   "metadata": {},
   "outputs": [
    {
     "data": {
      "text/plain": [
       "Text(0, 0.5, 'host_listings_count')"
      ]
     },
     "execution_count": 319,
     "metadata": {},
     "output_type": "execute_result"
    },
    {
     "data": {
      "image/png": "[encoded data removed]",
      "text/plain": [
       "<Figure size 1224x720 with 1 Axes>"
      ]
     },
     "metadata": {
      "needs_background": "light"
     },
     "output_type": "display_data"
    }
   ],
   "source": [
    "#Interpreting the relation between number of reviews and number of listings\n",
    "\n",
    "price_review = listings[['host_listings_count', 'review_scores_rating']].sort_values(by = 'review_scores_rating')\n",
    "price_review1 = price_review[price_review['review_scores_rating'] >70 ]\n",
    "\n",
    "price_review1.plot(x = 'review_scores_rating', \n",
    "                  y = 'host_listings_count', \n",
    "                  style = 'o',\n",
    "                  figsize =(17,10),\n",
    "                  legend = False,\n",
    "                  title = 'Reviews based on host_listings_count')\n",
    "\n",
    "plt.xlabel(\"review_scores_rating\")\n",
    "plt.ylabel(\"host_listings_count\")"
   ]
  },
  {
   "cell_type": "markdown",
   "id": "7c42ce50",
   "metadata": {},
   "source": [
    "Once again, there is no clear relationship between the numbe of reviews and the review scores. \n",
    "Let's group the data by review score if we can have a better view."
   ]
  },
  {
   "cell_type": "code",
   "execution_count": 321,
   "id": "81262f5b",
   "metadata": {},
   "outputs": [
    {
     "data": {
      "text/plain": [
       "Text(0, 0.5, 'host_listings_count')"
      ]
     },
     "execution_count": 321,
     "metadata": {},
     "output_type": "execute_result"
    },
    {
     "data": {
      "image/png": "[encoded data removed]",
      "text/plain": [
       "<Figure size 1224x720 with 1 Axes>"
      ]
     },
     "metadata": {
      "needs_background": "light"
     },
     "output_type": "display_data"
    }
   ],
   "source": [
    "#Interpreting the relation between number of reviews and number of listings\n",
    "\n",
    "price_review = listings[['host_listings_count', 'review_scores_rating']].sort_values(by = 'review_scores_rating')\n",
    "price_review1 = price_review[price_review['review_scores_rating'] >70 ]\n",
    "\n",
    "price_review1.groupby(['review_scores_rating'])['host_listings_count'].count().plot(x = 'review_scores_rating', \n",
    "                  y = 'host_listings_count', \n",
    "                  style = 'o',\n",
    "                  figsize =(17,10),\n",
    "                  legend = False,\n",
    "                  title = 'Reviews based on host_listings_count')\n",
    "\n",
    "plt.xlabel(\"review_scores_rating\")\n",
    "plt.ylabel(\"host_listings_count\")"
   ]
  },
  {
   "cell_type": "markdown",
   "id": "6693dcb4",
   "metadata": {},
   "source": [
    "We can see the begin of a relationship between the two values, but we cannot conclude on a relationship as it is not consistent. There is no relationship between the number of listings and the review scores.\n",
    "\n",
    "These answers the question: Is there a relation between the number of bookings of a place and the reviews score?  \n",
    "\n",
    "The answer is no, even though on few occasion it is true. Overall it is not sustainable. Because a place has been listed multiple times does not mean it will always have a good rating."
   ]
  },
  {
   "cell_type": "markdown",
   "id": "1d817f73",
   "metadata": {},
   "source": [
    "Let's see what type of listings are the most expensive or with the best rating."
   ]
  },
  {
   "cell_type": "code",
   "execution_count": 326,
   "id": "64cf3cfb",
   "metadata": {},
   "outputs": [
    {
     "data": {
      "text/plain": [
       "Text(0, 0.5, 'nb bookings')"
      ]
     },
     "execution_count": 326,
     "metadata": {},
     "output_type": "execute_result"
    },
    {
     "data": {
      "image/png": "[encoded data removed]",
      "text/plain": [
       "<Figure size 1008x432 with 1 Axes>"
      ]
     },
     "metadata": {
      "needs_background": "light"
     },
     "output_type": "display_data"
    }
   ],
   "source": [
    "#What are the most and least boked property types in boston?\n",
    "\n",
    "plt.figure(figsize=(14,6))\n",
    "listings.groupby(['property_type'])['calculated_host_listings_count'].mean().sort_values(ascending=False).plot(kind='bar')\n",
    "plt.title('Property number of booking as per Property Type')\n",
    "plt.xlabel('Property Type')\n",
    "plt.ylabel('nb bookings')"
   ]
  },
  {
   "cell_type": "code",
   "execution_count": 324,
   "id": "8b90de25",
   "metadata": {},
   "outputs": [
    {
     "data": {
      "text/plain": [
       "Text(0, 0.5, 'nb bookings')"
      ]
     },
     "execution_count": 324,
     "metadata": {},
     "output_type": "execute_result"
    },
    {
     "data": {
      "image/png": "[encoded data removed]",
      "text/plain": [
       "<Figure size 1008x432 with 1 Axes>"
      ]
     },
     "metadata": {
      "needs_background": "light"
     },
     "output_type": "display_data"
    }
   ],
   "source": [
    "#Which neighborhoud has the most listings?\n",
    "\n",
    "plt.figure(figsize=(14,6))\n",
    "listings.groupby(['neighbourhood'])['calculated_host_listings_count'].mean().sort_values(ascending=False).plot(kind='bar')\n",
    "plt.title('Number of booking as per neighboarhood')\n",
    "plt.xlabel('Neighbourhood')\n",
    "plt.ylabel('nb bookings')"
   ]
  },
  {
   "cell_type": "code",
   "execution_count": 261,
   "id": "52fa4ed5",
   "metadata": {},
   "outputs": [
    {
     "data": {
      "image/png": "[encoded data removed]",
      "text/plain": [
       "<Figure size 1008x432 with 1 Axes>"
      ]
     },
     "metadata": {
      "needs_background": "light"
     },
     "output_type": "display_data"
    }
   ],
   "source": [
    "#What are some most expensive property types in boston\n",
    "\n",
    "plt.figure(figsize=(14,6));\n",
    "listings.groupby(['property_type'])['price'].mean().sort_values(ascending=False).plot(kind='bar');\n",
    "plt.title('Property price as per Property Type');\n",
    "plt.xlabel('Property Type');\n",
    "plt.ylabel('$ Price');"
   ]
  },
  {
   "cell_type": "code",
   "execution_count": 264,
   "id": "366e92f1",
   "metadata": {},
   "outputs": [
    {
     "data": {
      "text/plain": [
       "Text(0, 0.5, 'nb bookings')"
      ]
     },
     "execution_count": 264,
     "metadata": {},
     "output_type": "execute_result"
    },
    {
     "data": {
      "image/png": "[encoded data removed]",
      "text/plain": [
       "<Figure size 1008x432 with 1 Axes>"
      ]
     },
     "metadata": {
      "needs_background": "light"
     },
     "output_type": "display_data"
    }
   ],
   "source": [
    "#What are the most and least expensive neighbourhoods in boston ?\n",
    "\n",
    "plt.figure(figsize=(14,6))\n",
    "listings.groupby(['neighbourhood'])['price'].mean().sort_values(ascending=False).plot(kind='bar')\n",
    "plt.title('price range')\n",
    "plt.xlabel('Neighbourhood')\n",
    "plt.ylabel('nb bookings')"
   ]
  },
  {
   "cell_type": "code",
   "execution_count": 259,
   "id": "3068a68e",
   "metadata": {},
   "outputs": [
    {
     "data": {
      "text/plain": [
       "Text(0, 0.5, 'number_of_reviews')"
      ]
     },
     "execution_count": 259,
     "metadata": {},
     "output_type": "execute_result"
    },
    {
     "data": {
      "image/png": "[encoded data removed]",
      "text/plain": [
       "<Figure size 1008x432 with 1 Axes>"
      ]
     },
     "metadata": {
      "needs_background": "light"
     },
     "output_type": "display_data"
    }
   ],
   "source": [
    "#What are some most rated property types in boston?\n",
    "\n",
    "plt.figure(figsize=(14,6))\n",
    "listings.groupby(['property_type'])['number_of_reviews'].mean().sort_values(ascending=False).plot(kind='bar')\n",
    "plt.title('Property number of booking as per Property Type')\n",
    "plt.xlabel('Property Type')\n",
    "plt.ylabel('number_of_reviews')"
   ]
  },
  {
   "cell_type": "code",
   "execution_count": 260,
   "id": "e589da5a",
   "metadata": {},
   "outputs": [
    {
     "data": {
      "text/plain": [
       "Text(0, 0.5, 'review_scores_rating')"
      ]
     },
     "execution_count": 260,
     "metadata": {},
     "output_type": "execute_result"
    },
    {
     "data": {
      "image/png": "[encoded data removed]",
      "text/plain": [
       "<Figure size 1008x432 with 1 Axes>"
      ]
     },
     "metadata": {
      "needs_background": "light"
     },
     "output_type": "display_data"
    }
   ],
   "source": [
    "#What are some best ratings property types in boston?\n",
    "\n",
    "plt.figure(figsize=(14,6))\n",
    "listings.groupby(['property_type'])['review_scores_rating'].mean().sort_values(ascending=False).plot(kind='bar')\n",
    "plt.title('Property number of booking as per Property Type')\n",
    "plt.xlabel('Property Type')\n",
    "plt.ylabel('review_scores_rating')"
   ]
  },
  {
   "cell_type": "code",
   "execution_count": 263,
   "id": "842113ed",
   "metadata": {},
   "outputs": [
    {
     "data": {
      "text/plain": [
       "Text(0, 0.5, 'review_scores_rating')"
      ]
     },
     "execution_count": 263,
     "metadata": {},
     "output_type": "execute_result"
    },
    {
     "data": {
      "image/png": "[encoded data removed]",
      "text/plain": [
       "<Figure size 1008x432 with 1 Axes>"
      ]
     },
     "metadata": {
      "needs_background": "light"
     },
     "output_type": "display_data"
    }
   ],
   "source": [
    "#Which neighborhoud has the best ratings?\n",
    "\n",
    "plt.figure(figsize=(14,6))\n",
    "listings.groupby(['neighbourhood'])['review_scores_rating'].mean().sort_values(ascending=False).plot(kind='bar')\n",
    "plt.title('Number of booking as per review_scores_rating')\n",
    "plt.xlabel('Neighbourhood')\n",
    "plt.ylabel('review_scores_rating')"
   ]
  },
  {
   "cell_type": "code",
   "execution_count": null,
   "id": "59edf8c0",
   "metadata": {},
   "outputs": [],
   "source": []
  },
  {
   "cell_type": "code",
   "execution_count": null,
   "id": "106a21aa",
   "metadata": {},
   "outputs": [],
   "source": []
  },
  {
   "cell_type": "code",
   "execution_count": 266,
   "id": "9552ca48",
   "metadata": {},
   "outputs": [],
   "source": [
    "reviews_per_year = pd.DataFrame(reviews.groupby(['year'])['listing_id'].count())"
   ]
  },
  {
   "cell_type": "code",
   "execution_count": 267,
   "id": "e52e6301",
   "metadata": {},
   "outputs": [],
   "source": [
    "reviews_per_year.rename(columns = {'listing_id': 'listing_count'}, inplace = True)\n",
    "reviews_per_year.reset_index(inplace=True)"
   ]
  },
  {
   "cell_type": "code",
   "execution_count": 268,
   "id": "4c5999d3",
   "metadata": {},
   "outputs": [
    {
     "data": {
      "text/html": [
       "<div>\n",
       "<style scoped>\n",
       "    .dataframe tbody tr th:only-of-type {\n",
       "        vertical-align: middle;\n",
       "    }\n",
       "\n",
       "    .dataframe tbody tr th {\n",
       "        vertical-align: top;\n",
       "    }\n",
       "\n",
       "    .dataframe thead th {\n",
       "        text-align: right;\n",
       "    }\n",
       "</style>\n",
       "<table border=\"1\" class=\"dataframe\">\n",
       "  <thead>\n",
       "    <tr style=\"text-align: right;\">\n",
       "      <th></th>\n",
       "      <th>year</th>\n",
       "      <th>listing_count</th>\n",
       "    </tr>\n",
       "  </thead>\n",
       "  <tbody>\n",
       "    <tr>\n",
       "      <th>0</th>\n",
       "      <td>2009</td>\n",
       "      <td>20</td>\n",
       "    </tr>\n",
       "    <tr>\n",
       "      <th>1</th>\n",
       "      <td>2010</td>\n",
       "      <td>200</td>\n",
       "    </tr>\n",
       "    <tr>\n",
       "      <th>2</th>\n",
       "      <td>2011</td>\n",
       "      <td>664</td>\n",
       "    </tr>\n",
       "    <tr>\n",
       "      <th>3</th>\n",
       "      <td>2012</td>\n",
       "      <td>1316</td>\n",
       "    </tr>\n",
       "    <tr>\n",
       "      <th>4</th>\n",
       "      <td>2013</td>\n",
       "      <td>2965</td>\n",
       "    </tr>\n",
       "    <tr>\n",
       "      <th>5</th>\n",
       "      <td>2014</td>\n",
       "      <td>9272</td>\n",
       "    </tr>\n",
       "    <tr>\n",
       "      <th>6</th>\n",
       "      <td>2015</td>\n",
       "      <td>23814</td>\n",
       "    </tr>\n",
       "    <tr>\n",
       "      <th>7</th>\n",
       "      <td>2016</td>\n",
       "      <td>30024</td>\n",
       "    </tr>\n",
       "  </tbody>\n",
       "</table>\n",
       "</div>"
      ],
      "text/plain": [
       "   year  listing_count\n",
       "0  2009             20\n",
       "1  2010            200\n",
       "2  2011            664\n",
       "3  2012           1316\n",
       "4  2013           2965\n",
       "5  2014           9272\n",
       "6  2015          23814\n",
       "7  2016          30024"
      ]
     },
     "execution_count": 268,
     "metadata": {},
     "output_type": "execute_result"
    }
   ],
   "source": [
    "reviews_per_year.head(20)"
   ]
  },
  {
   "cell_type": "code",
   "execution_count": null,
   "id": "51996ce4",
   "metadata": {},
   "outputs": [],
   "source": []
  },
  {
   "cell_type": "code",
   "execution_count": 269,
   "id": "badbb3cb",
   "metadata": {},
   "outputs": [
    {
     "data": {
      "image/png": "[encoded data removed]",
      "text/plain": [
       "<Figure size 432x288 with 1 Axes>"
      ]
     },
     "metadata": {
      "needs_background": "light"
     },
     "output_type": "display_data"
    }
   ],
   "source": [
    "fig, ax = plt.subplots()\n",
    "plt.scatter(reviews_per_year['year'], reviews_per_year['listing_count'])\n",
    "plt.show()"
   ]
  },
  {
   "cell_type": "code",
   "execution_count": null,
   "id": "8a932cb1",
   "metadata": {},
   "outputs": [],
   "source": []
  },
  {
   "cell_type": "code",
   "execution_count": null,
   "id": "3e9fd2f8",
   "metadata": {},
   "outputs": [],
   "source": []
  },
  {
   "cell_type": "code",
   "execution_count": 270,
   "id": "7cb8be74",
   "metadata": {},
   "outputs": [],
   "source": [
    "reviews_per_yearmonth = pd.DataFrame(reviews.groupby(['yearmonth'])['listing_id'].count())"
   ]
  },
  {
   "cell_type": "code",
   "execution_count": 271,
   "id": "d3750720",
   "metadata": {},
   "outputs": [],
   "source": [
    "reviews_per_yearmonth.rename(columns = {'listing_id': 'listing_count'}, inplace = True)\n",
    "reviews_per_yearmonth.reset_index(inplace=True)"
   ]
  },
  {
   "cell_type": "code",
   "execution_count": 272,
   "id": "9a0aa498",
   "metadata": {},
   "outputs": [],
   "source": [
    "reviews_per_yearmonth['yearmonth'] = reviews_per_yearmonth['yearmonth'].astype(str)"
   ]
  },
  {
   "cell_type": "code",
   "execution_count": 273,
   "id": "78efadaf",
   "metadata": {},
   "outputs": [
    {
     "data": {
      "text/html": [
       "<div>\n",
       "<style scoped>\n",
       "    .dataframe tbody tr th:only-of-type {\n",
       "        vertical-align: middle;\n",
       "    }\n",
       "\n",
       "    .dataframe tbody tr th {\n",
       "        vertical-align: top;\n",
       "    }\n",
       "\n",
       "    .dataframe thead th {\n",
       "        text-align: right;\n",
       "    }\n",
       "</style>\n",
       "<table border=\"1\" class=\"dataframe\">\n",
       "  <thead>\n",
       "    <tr style=\"text-align: right;\">\n",
       "      <th></th>\n",
       "      <th>yearmonth</th>\n",
       "      <th>listing_count</th>\n",
       "    </tr>\n",
       "  </thead>\n",
       "  <tbody>\n",
       "    <tr>\n",
       "      <th>0</th>\n",
       "      <td>2009-03</td>\n",
       "      <td>1</td>\n",
       "    </tr>\n",
       "    <tr>\n",
       "      <th>1</th>\n",
       "      <td>2009-04</td>\n",
       "      <td>1</td>\n",
       "    </tr>\n",
       "    <tr>\n",
       "      <th>2</th>\n",
       "      <td>2009-05</td>\n",
       "      <td>1</td>\n",
       "    </tr>\n",
       "    <tr>\n",
       "      <th>3</th>\n",
       "      <td>2009-07</td>\n",
       "      <td>1</td>\n",
       "    </tr>\n",
       "    <tr>\n",
       "      <th>4</th>\n",
       "      <td>2009-08</td>\n",
       "      <td>2</td>\n",
       "    </tr>\n",
       "    <tr>\n",
       "      <th>5</th>\n",
       "      <td>2009-09</td>\n",
       "      <td>3</td>\n",
       "    </tr>\n",
       "    <tr>\n",
       "      <th>6</th>\n",
       "      <td>2009-10</td>\n",
       "      <td>6</td>\n",
       "    </tr>\n",
       "    <tr>\n",
       "      <th>7</th>\n",
       "      <td>2009-11</td>\n",
       "      <td>3</td>\n",
       "    </tr>\n",
       "    <tr>\n",
       "      <th>8</th>\n",
       "      <td>2009-12</td>\n",
       "      <td>2</td>\n",
       "    </tr>\n",
       "    <tr>\n",
       "      <th>9</th>\n",
       "      <td>2010-01</td>\n",
       "      <td>2</td>\n",
       "    </tr>\n",
       "    <tr>\n",
       "      <th>10</th>\n",
       "      <td>2010-02</td>\n",
       "      <td>3</td>\n",
       "    </tr>\n",
       "    <tr>\n",
       "      <th>11</th>\n",
       "      <td>2010-03</td>\n",
       "      <td>3</td>\n",
       "    </tr>\n",
       "    <tr>\n",
       "      <th>12</th>\n",
       "      <td>2010-04</td>\n",
       "      <td>2</td>\n",
       "    </tr>\n",
       "    <tr>\n",
       "      <th>13</th>\n",
       "      <td>2010-05</td>\n",
       "      <td>11</td>\n",
       "    </tr>\n",
       "    <tr>\n",
       "      <th>14</th>\n",
       "      <td>2010-06</td>\n",
       "      <td>8</td>\n",
       "    </tr>\n",
       "    <tr>\n",
       "      <th>15</th>\n",
       "      <td>2010-07</td>\n",
       "      <td>13</td>\n",
       "    </tr>\n",
       "    <tr>\n",
       "      <th>16</th>\n",
       "      <td>2010-08</td>\n",
       "      <td>31</td>\n",
       "    </tr>\n",
       "    <tr>\n",
       "      <th>17</th>\n",
       "      <td>2010-09</td>\n",
       "      <td>37</td>\n",
       "    </tr>\n",
       "    <tr>\n",
       "      <th>18</th>\n",
       "      <td>2010-10</td>\n",
       "      <td>59</td>\n",
       "    </tr>\n",
       "    <tr>\n",
       "      <th>19</th>\n",
       "      <td>2010-11</td>\n",
       "      <td>25</td>\n",
       "    </tr>\n",
       "  </tbody>\n",
       "</table>\n",
       "</div>"
      ],
      "text/plain": [
       "   yearmonth  listing_count\n",
       "0    2009-03              1\n",
       "1    2009-04              1\n",
       "2    2009-05              1\n",
       "3    2009-07              1\n",
       "4    2009-08              2\n",
       "5    2009-09              3\n",
       "6    2009-10              6\n",
       "7    2009-11              3\n",
       "8    2009-12              2\n",
       "9    2010-01              2\n",
       "10   2010-02              3\n",
       "11   2010-03              3\n",
       "12   2010-04              2\n",
       "13   2010-05             11\n",
       "14   2010-06              8\n",
       "15   2010-07             13\n",
       "16   2010-08             31\n",
       "17   2010-09             37\n",
       "18   2010-10             59\n",
       "19   2010-11             25"
      ]
     },
     "execution_count": 273,
     "metadata": {},
     "output_type": "execute_result"
    }
   ],
   "source": [
    "reviews_per_yearmonth.head(20)"
   ]
  },
  {
   "cell_type": "code",
   "execution_count": 274,
   "id": "c8c53013",
   "metadata": {},
   "outputs": [
    {
     "name": "stdout",
     "output_type": "stream",
     "text": [
      "<class 'pandas.core.frame.DataFrame'>\n",
      "RangeIndex: 90 entries, 0 to 89\n",
      "Data columns (total 2 columns):\n",
      " #   Column         Non-Null Count  Dtype \n",
      "---  ------         --------------  ----- \n",
      " 0   yearmonth      90 non-null     object\n",
      " 1   listing_count  90 non-null     int64 \n",
      "dtypes: int64(1), object(1)\n",
      "memory usage: 1.5+ KB\n"
     ]
    }
   ],
   "source": [
    "reviews_per_yearmonth.info()"
   ]
  },
  {
   "cell_type": "code",
   "execution_count": 275,
   "id": "c56b8671",
   "metadata": {},
   "outputs": [
    {
     "data": {
      "image/png": "[encoded data removed]",
      "text/plain": [
       "<Figure size 1584x864 with 1 Axes>"
      ]
     },
     "metadata": {
      "needs_background": "light"
     },
     "output_type": "display_data"
    }
   ],
   "source": [
    "fig, ax = plt.subplots(figsize=(22, 12))\n",
    "plt.scatter(reviews_per_yearmonth['yearmonth'], reviews_per_yearmonth['listing_count'])\n",
    "plt.xticks(rotation=90)\n",
    "plt.show()"
   ]
  },
  {
   "cell_type": "code",
   "execution_count": 276,
   "id": "2d8acb8f",
   "metadata": {},
   "outputs": [
    {
     "data": {
      "text/html": [
       "<div>\n",
       "<style scoped>\n",
       "    .dataframe tbody tr th:only-of-type {\n",
       "        vertical-align: middle;\n",
       "    }\n",
       "\n",
       "    .dataframe tbody tr th {\n",
       "        vertical-align: top;\n",
       "    }\n",
       "\n",
       "    .dataframe thead th {\n",
       "        text-align: right;\n",
       "    }\n",
       "</style>\n",
       "<table border=\"1\" class=\"dataframe\">\n",
       "  <thead>\n",
       "    <tr style=\"text-align: right;\">\n",
       "      <th></th>\n",
       "      <th>yearmonth</th>\n",
       "      <th>listing_count</th>\n",
       "    </tr>\n",
       "  </thead>\n",
       "  <tbody>\n",
       "    <tr>\n",
       "      <th>0</th>\n",
       "      <td>2009-03</td>\n",
       "      <td>1</td>\n",
       "    </tr>\n",
       "    <tr>\n",
       "      <th>1</th>\n",
       "      <td>2009-04</td>\n",
       "      <td>1</td>\n",
       "    </tr>\n",
       "    <tr>\n",
       "      <th>2</th>\n",
       "      <td>2009-05</td>\n",
       "      <td>1</td>\n",
       "    </tr>\n",
       "    <tr>\n",
       "      <th>3</th>\n",
       "      <td>2009-07</td>\n",
       "      <td>1</td>\n",
       "    </tr>\n",
       "    <tr>\n",
       "      <th>4</th>\n",
       "      <td>2009-08</td>\n",
       "      <td>2</td>\n",
       "    </tr>\n",
       "    <tr>\n",
       "      <th>...</th>\n",
       "      <td>...</td>\n",
       "      <td>...</td>\n",
       "    </tr>\n",
       "    <tr>\n",
       "      <th>85</th>\n",
       "      <td>2016-05</td>\n",
       "      <td>4691</td>\n",
       "    </tr>\n",
       "    <tr>\n",
       "      <th>86</th>\n",
       "      <td>2016-06</td>\n",
       "      <td>4783</td>\n",
       "    </tr>\n",
       "    <tr>\n",
       "      <th>87</th>\n",
       "      <td>2016-07</td>\n",
       "      <td>5377</td>\n",
       "    </tr>\n",
       "    <tr>\n",
       "      <th>88</th>\n",
       "      <td>2016-08</td>\n",
       "      <td>5719</td>\n",
       "    </tr>\n",
       "    <tr>\n",
       "      <th>89</th>\n",
       "      <td>2016-09</td>\n",
       "      <td>594</td>\n",
       "    </tr>\n",
       "  </tbody>\n",
       "</table>\n",
       "<p>90 rows × 2 columns</p>\n",
       "</div>"
      ],
      "text/plain": [
       "   yearmonth  listing_count\n",
       "0    2009-03              1\n",
       "1    2009-04              1\n",
       "2    2009-05              1\n",
       "3    2009-07              1\n",
       "4    2009-08              2\n",
       "..       ...            ...\n",
       "85   2016-05           4691\n",
       "86   2016-06           4783\n",
       "87   2016-07           5377\n",
       "88   2016-08           5719\n",
       "89   2016-09            594\n",
       "\n",
       "[90 rows x 2 columns]"
      ]
     },
     "execution_count": 276,
     "metadata": {},
     "output_type": "execute_result"
    }
   ],
   "source": [
    "reviews_per_yearmonth"
   ]
  },
  {
   "cell_type": "code",
   "execution_count": 277,
   "id": "17a6e9e8",
   "metadata": {},
   "outputs": [],
   "source": [
    "#plot the data differently\n",
    "reviews_per_yearmonth_pivot = reviews_per_yearmonth.copy()\n",
    "reviews_per_yearmonth_pivot[['yearmonth','month']] = reviews_per_yearmonth_pivot['yearmonth'].str.split('-',expand=True)"
   ]
  },
  {
   "cell_type": "code",
   "execution_count": 278,
   "id": "ca4efb30",
   "metadata": {},
   "outputs": [
    {
     "data": {
      "text/html": [
       "<div>\n",
       "<style scoped>\n",
       "    .dataframe tbody tr th:only-of-type {\n",
       "        vertical-align: middle;\n",
       "    }\n",
       "\n",
       "    .dataframe tbody tr th {\n",
       "        vertical-align: top;\n",
       "    }\n",
       "\n",
       "    .dataframe thead th {\n",
       "        text-align: right;\n",
       "    }\n",
       "</style>\n",
       "<table border=\"1\" class=\"dataframe\">\n",
       "  <thead>\n",
       "    <tr style=\"text-align: right;\">\n",
       "      <th></th>\n",
       "      <th>yearmonth</th>\n",
       "      <th>listing_count</th>\n",
       "      <th>month</th>\n",
       "    </tr>\n",
       "  </thead>\n",
       "  <tbody>\n",
       "    <tr>\n",
       "      <th>0</th>\n",
       "      <td>2009</td>\n",
       "      <td>1</td>\n",
       "      <td>03</td>\n",
       "    </tr>\n",
       "    <tr>\n",
       "      <th>1</th>\n",
       "      <td>2009</td>\n",
       "      <td>1</td>\n",
       "      <td>04</td>\n",
       "    </tr>\n",
       "    <tr>\n",
       "      <th>2</th>\n",
       "      <td>2009</td>\n",
       "      <td>1</td>\n",
       "      <td>05</td>\n",
       "    </tr>\n",
       "    <tr>\n",
       "      <th>3</th>\n",
       "      <td>2009</td>\n",
       "      <td>1</td>\n",
       "      <td>07</td>\n",
       "    </tr>\n",
       "    <tr>\n",
       "      <th>4</th>\n",
       "      <td>2009</td>\n",
       "      <td>2</td>\n",
       "      <td>08</td>\n",
       "    </tr>\n",
       "  </tbody>\n",
       "</table>\n",
       "</div>"
      ],
      "text/plain": [
       "  yearmonth  listing_count month\n",
       "0      2009              1    03\n",
       "1      2009              1    04\n",
       "2      2009              1    05\n",
       "3      2009              1    07\n",
       "4      2009              2    08"
      ]
     },
     "execution_count": 278,
     "metadata": {},
     "output_type": "execute_result"
    }
   ],
   "source": [
    "reviews_per_yearmonth_pivot.head()"
   ]
  },
  {
   "cell_type": "code",
   "execution_count": 197,
   "id": "7e9bd03d",
   "metadata": {},
   "outputs": [],
   "source": [
    "months_in_order = ['01', '02', '03', '04', '05', '06', '07', '08', '09', '10', '11', '12']"
   ]
  },
  {
   "cell_type": "code",
   "execution_count": 279,
   "id": "f3739d68",
   "metadata": {},
   "outputs": [],
   "source": [
    "reviews_per_yearmonth_pivot = reviews_per_yearmonth_pivot[reviews_per_yearmonth_pivot['yearmonth']>\"2008\"].pivot(index='month', columns='yearmonth', values='listing_count').reindex(months_in_order)"
   ]
  },
  {
   "cell_type": "code",
   "execution_count": 280,
   "id": "6f9485f2",
   "metadata": {},
   "outputs": [
    {
     "data": {
      "text/html": [
       "<div>\n",
       "<style scoped>\n",
       "    .dataframe tbody tr th:only-of-type {\n",
       "        vertical-align: middle;\n",
       "    }\n",
       "\n",
       "    .dataframe tbody tr th {\n",
       "        vertical-align: top;\n",
       "    }\n",
       "\n",
       "    .dataframe thead th {\n",
       "        text-align: right;\n",
       "    }\n",
       "</style>\n",
       "<table border=\"1\" class=\"dataframe\">\n",
       "  <thead>\n",
       "    <tr style=\"text-align: right;\">\n",
       "      <th>yearmonth</th>\n",
       "      <th>2009</th>\n",
       "      <th>2010</th>\n",
       "      <th>2011</th>\n",
       "      <th>2012</th>\n",
       "      <th>2013</th>\n",
       "      <th>2014</th>\n",
       "      <th>2015</th>\n",
       "      <th>2016</th>\n",
       "    </tr>\n",
       "    <tr>\n",
       "      <th>month</th>\n",
       "      <th></th>\n",
       "      <th></th>\n",
       "      <th></th>\n",
       "      <th></th>\n",
       "      <th></th>\n",
       "      <th></th>\n",
       "      <th></th>\n",
       "      <th></th>\n",
       "    </tr>\n",
       "  </thead>\n",
       "  <tbody>\n",
       "    <tr>\n",
       "      <th>01</th>\n",
       "      <td>NaN</td>\n",
       "      <td>2.0</td>\n",
       "      <td>17.0</td>\n",
       "      <td>31.0</td>\n",
       "      <td>54.0</td>\n",
       "      <td>124.0</td>\n",
       "      <td>500.0</td>\n",
       "      <td>1391.0</td>\n",
       "    </tr>\n",
       "    <tr>\n",
       "      <th>02</th>\n",
       "      <td>NaN</td>\n",
       "      <td>3.0</td>\n",
       "      <td>7.0</td>\n",
       "      <td>31.0</td>\n",
       "      <td>35.0</td>\n",
       "      <td>135.0</td>\n",
       "      <td>391.0</td>\n",
       "      <td>1362.0</td>\n",
       "    </tr>\n",
       "    <tr>\n",
       "      <th>03</th>\n",
       "      <td>1.0</td>\n",
       "      <td>3.0</td>\n",
       "      <td>20.0</td>\n",
       "      <td>93.0</td>\n",
       "      <td>91.0</td>\n",
       "      <td>273.0</td>\n",
       "      <td>1062.0</td>\n",
       "      <td>2310.0</td>\n",
       "    </tr>\n",
       "    <tr>\n",
       "      <th>04</th>\n",
       "      <td>1.0</td>\n",
       "      <td>2.0</td>\n",
       "      <td>39.0</td>\n",
       "      <td>126.0</td>\n",
       "      <td>141.0</td>\n",
       "      <td>600.0</td>\n",
       "      <td>1410.0</td>\n",
       "      <td>3797.0</td>\n",
       "    </tr>\n",
       "    <tr>\n",
       "      <th>05</th>\n",
       "      <td>1.0</td>\n",
       "      <td>11.0</td>\n",
       "      <td>44.0</td>\n",
       "      <td>132.0</td>\n",
       "      <td>232.0</td>\n",
       "      <td>713.0</td>\n",
       "      <td>2291.0</td>\n",
       "      <td>4691.0</td>\n",
       "    </tr>\n",
       "    <tr>\n",
       "      <th>06</th>\n",
       "      <td>NaN</td>\n",
       "      <td>8.0</td>\n",
       "      <td>56.0</td>\n",
       "      <td>157.0</td>\n",
       "      <td>283.0</td>\n",
       "      <td>775.0</td>\n",
       "      <td>2307.0</td>\n",
       "      <td>4783.0</td>\n",
       "    </tr>\n",
       "    <tr>\n",
       "      <th>07</th>\n",
       "      <td>1.0</td>\n",
       "      <td>13.0</td>\n",
       "      <td>37.0</td>\n",
       "      <td>133.0</td>\n",
       "      <td>295.0</td>\n",
       "      <td>890.0</td>\n",
       "      <td>2587.0</td>\n",
       "      <td>5377.0</td>\n",
       "    </tr>\n",
       "    <tr>\n",
       "      <th>08</th>\n",
       "      <td>2.0</td>\n",
       "      <td>31.0</td>\n",
       "      <td>78.0</td>\n",
       "      <td>134.0</td>\n",
       "      <td>395.0</td>\n",
       "      <td>1203.0</td>\n",
       "      <td>2783.0</td>\n",
       "      <td>5719.0</td>\n",
       "    </tr>\n",
       "    <tr>\n",
       "      <th>09</th>\n",
       "      <td>3.0</td>\n",
       "      <td>37.0</td>\n",
       "      <td>102.0</td>\n",
       "      <td>145.0</td>\n",
       "      <td>396.0</td>\n",
       "      <td>1504.0</td>\n",
       "      <td>3204.0</td>\n",
       "      <td>594.0</td>\n",
       "    </tr>\n",
       "    <tr>\n",
       "      <th>10</th>\n",
       "      <td>6.0</td>\n",
       "      <td>59.0</td>\n",
       "      <td>150.0</td>\n",
       "      <td>186.0</td>\n",
       "      <td>548.0</td>\n",
       "      <td>1495.0</td>\n",
       "      <td>3651.0</td>\n",
       "      <td>NaN</td>\n",
       "    </tr>\n",
       "    <tr>\n",
       "      <th>11</th>\n",
       "      <td>3.0</td>\n",
       "      <td>25.0</td>\n",
       "      <td>90.0</td>\n",
       "      <td>89.0</td>\n",
       "      <td>316.0</td>\n",
       "      <td>1080.0</td>\n",
       "      <td>2126.0</td>\n",
       "      <td>NaN</td>\n",
       "    </tr>\n",
       "    <tr>\n",
       "      <th>12</th>\n",
       "      <td>2.0</td>\n",
       "      <td>6.0</td>\n",
       "      <td>24.0</td>\n",
       "      <td>59.0</td>\n",
       "      <td>179.0</td>\n",
       "      <td>480.0</td>\n",
       "      <td>1502.0</td>\n",
       "      <td>NaN</td>\n",
       "    </tr>\n",
       "  </tbody>\n",
       "</table>\n",
       "</div>"
      ],
      "text/plain": [
       "yearmonth  2009  2010   2011   2012   2013    2014    2015    2016\n",
       "month                                                             \n",
       "01          NaN   2.0   17.0   31.0   54.0   124.0   500.0  1391.0\n",
       "02          NaN   3.0    7.0   31.0   35.0   135.0   391.0  1362.0\n",
       "03          1.0   3.0   20.0   93.0   91.0   273.0  1062.0  2310.0\n",
       "04          1.0   2.0   39.0  126.0  141.0   600.0  1410.0  3797.0\n",
       "05          1.0  11.0   44.0  132.0  232.0   713.0  2291.0  4691.0\n",
       "06          NaN   8.0   56.0  157.0  283.0   775.0  2307.0  4783.0\n",
       "07          1.0  13.0   37.0  133.0  295.0   890.0  2587.0  5377.0\n",
       "08          2.0  31.0   78.0  134.0  395.0  1203.0  2783.0  5719.0\n",
       "09          3.0  37.0  102.0  145.0  396.0  1504.0  3204.0   594.0\n",
       "10          6.0  59.0  150.0  186.0  548.0  1495.0  3651.0     NaN\n",
       "11          3.0  25.0   90.0   89.0  316.0  1080.0  2126.0     NaN\n",
       "12          2.0   6.0   24.0   59.0  179.0   480.0  1502.0     NaN"
      ]
     },
     "execution_count": 280,
     "metadata": {},
     "output_type": "execute_result"
    }
   ],
   "source": [
    "reviews_per_yearmonth_pivot"
   ]
  },
  {
   "cell_type": "code",
   "execution_count": 281,
   "id": "515b8e23",
   "metadata": {},
   "outputs": [],
   "source": [
    "#fill the null values with mean\n",
    "\n",
    "tobe_filled = [cols for cols in reviews_per_yearmonth_pivot.columns.values if (reviews_per_yearmonth_pivot[cols].isnull().sum()/len(reviews_per_yearmonth_pivot)*100)]"
   ]
  },
  {
   "cell_type": "code",
   "execution_count": 282,
   "id": "56f41cae",
   "metadata": {},
   "outputs": [],
   "source": [
    "reviews_per_yearmonth_pivot[tobe_filled] = reviews_per_yearmonth_pivot[tobe_filled].fillna(value=round(reviews_per_yearmonth_pivot[tobe_filled].mean()))"
   ]
  },
  {
   "cell_type": "code",
   "execution_count": 283,
   "id": "38d08bc8",
   "metadata": {},
   "outputs": [
    {
     "data": {
      "text/html": [
       "<div>\n",
       "<style scoped>\n",
       "    .dataframe tbody tr th:only-of-type {\n",
       "        vertical-align: middle;\n",
       "    }\n",
       "\n",
       "    .dataframe tbody tr th {\n",
       "        vertical-align: top;\n",
       "    }\n",
       "\n",
       "    .dataframe thead th {\n",
       "        text-align: right;\n",
       "    }\n",
       "</style>\n",
       "<table border=\"1\" class=\"dataframe\">\n",
       "  <thead>\n",
       "    <tr style=\"text-align: right;\">\n",
       "      <th>yearmonth</th>\n",
       "      <th>2009</th>\n",
       "      <th>2010</th>\n",
       "      <th>2011</th>\n",
       "      <th>2012</th>\n",
       "      <th>2013</th>\n",
       "      <th>2014</th>\n",
       "      <th>2015</th>\n",
       "      <th>2016</th>\n",
       "    </tr>\n",
       "    <tr>\n",
       "      <th>month</th>\n",
       "      <th></th>\n",
       "      <th></th>\n",
       "      <th></th>\n",
       "      <th></th>\n",
       "      <th></th>\n",
       "      <th></th>\n",
       "      <th></th>\n",
       "      <th></th>\n",
       "    </tr>\n",
       "  </thead>\n",
       "  <tbody>\n",
       "    <tr>\n",
       "      <th>01</th>\n",
       "      <td>2.0</td>\n",
       "      <td>2.0</td>\n",
       "      <td>17.0</td>\n",
       "      <td>31.0</td>\n",
       "      <td>54.0</td>\n",
       "      <td>124.0</td>\n",
       "      <td>500.0</td>\n",
       "      <td>1391.0</td>\n",
       "    </tr>\n",
       "    <tr>\n",
       "      <th>02</th>\n",
       "      <td>2.0</td>\n",
       "      <td>3.0</td>\n",
       "      <td>7.0</td>\n",
       "      <td>31.0</td>\n",
       "      <td>35.0</td>\n",
       "      <td>135.0</td>\n",
       "      <td>391.0</td>\n",
       "      <td>1362.0</td>\n",
       "    </tr>\n",
       "    <tr>\n",
       "      <th>03</th>\n",
       "      <td>1.0</td>\n",
       "      <td>3.0</td>\n",
       "      <td>20.0</td>\n",
       "      <td>93.0</td>\n",
       "      <td>91.0</td>\n",
       "      <td>273.0</td>\n",
       "      <td>1062.0</td>\n",
       "      <td>2310.0</td>\n",
       "    </tr>\n",
       "    <tr>\n",
       "      <th>04</th>\n",
       "      <td>1.0</td>\n",
       "      <td>2.0</td>\n",
       "      <td>39.0</td>\n",
       "      <td>126.0</td>\n",
       "      <td>141.0</td>\n",
       "      <td>600.0</td>\n",
       "      <td>1410.0</td>\n",
       "      <td>3797.0</td>\n",
       "    </tr>\n",
       "    <tr>\n",
       "      <th>05</th>\n",
       "      <td>1.0</td>\n",
       "      <td>11.0</td>\n",
       "      <td>44.0</td>\n",
       "      <td>132.0</td>\n",
       "      <td>232.0</td>\n",
       "      <td>713.0</td>\n",
       "      <td>2291.0</td>\n",
       "      <td>4691.0</td>\n",
       "    </tr>\n",
       "    <tr>\n",
       "      <th>06</th>\n",
       "      <td>2.0</td>\n",
       "      <td>8.0</td>\n",
       "      <td>56.0</td>\n",
       "      <td>157.0</td>\n",
       "      <td>283.0</td>\n",
       "      <td>775.0</td>\n",
       "      <td>2307.0</td>\n",
       "      <td>4783.0</td>\n",
       "    </tr>\n",
       "    <tr>\n",
       "      <th>07</th>\n",
       "      <td>1.0</td>\n",
       "      <td>13.0</td>\n",
       "      <td>37.0</td>\n",
       "      <td>133.0</td>\n",
       "      <td>295.0</td>\n",
       "      <td>890.0</td>\n",
       "      <td>2587.0</td>\n",
       "      <td>5377.0</td>\n",
       "    </tr>\n",
       "    <tr>\n",
       "      <th>08</th>\n",
       "      <td>2.0</td>\n",
       "      <td>31.0</td>\n",
       "      <td>78.0</td>\n",
       "      <td>134.0</td>\n",
       "      <td>395.0</td>\n",
       "      <td>1203.0</td>\n",
       "      <td>2783.0</td>\n",
       "      <td>5719.0</td>\n",
       "    </tr>\n",
       "    <tr>\n",
       "      <th>09</th>\n",
       "      <td>3.0</td>\n",
       "      <td>37.0</td>\n",
       "      <td>102.0</td>\n",
       "      <td>145.0</td>\n",
       "      <td>396.0</td>\n",
       "      <td>1504.0</td>\n",
       "      <td>3204.0</td>\n",
       "      <td>594.0</td>\n",
       "    </tr>\n",
       "    <tr>\n",
       "      <th>10</th>\n",
       "      <td>6.0</td>\n",
       "      <td>59.0</td>\n",
       "      <td>150.0</td>\n",
       "      <td>186.0</td>\n",
       "      <td>548.0</td>\n",
       "      <td>1495.0</td>\n",
       "      <td>3651.0</td>\n",
       "      <td>3336.0</td>\n",
       "    </tr>\n",
       "    <tr>\n",
       "      <th>11</th>\n",
       "      <td>3.0</td>\n",
       "      <td>25.0</td>\n",
       "      <td>90.0</td>\n",
       "      <td>89.0</td>\n",
       "      <td>316.0</td>\n",
       "      <td>1080.0</td>\n",
       "      <td>2126.0</td>\n",
       "      <td>3336.0</td>\n",
       "    </tr>\n",
       "    <tr>\n",
       "      <th>12</th>\n",
       "      <td>2.0</td>\n",
       "      <td>6.0</td>\n",
       "      <td>24.0</td>\n",
       "      <td>59.0</td>\n",
       "      <td>179.0</td>\n",
       "      <td>480.0</td>\n",
       "      <td>1502.0</td>\n",
       "      <td>3336.0</td>\n",
       "    </tr>\n",
       "  </tbody>\n",
       "</table>\n",
       "</div>"
      ],
      "text/plain": [
       "yearmonth  2009  2010   2011   2012   2013    2014    2015    2016\n",
       "month                                                             \n",
       "01          2.0   2.0   17.0   31.0   54.0   124.0   500.0  1391.0\n",
       "02          2.0   3.0    7.0   31.0   35.0   135.0   391.0  1362.0\n",
       "03          1.0   3.0   20.0   93.0   91.0   273.0  1062.0  2310.0\n",
       "04          1.0   2.0   39.0  126.0  141.0   600.0  1410.0  3797.0\n",
       "05          1.0  11.0   44.0  132.0  232.0   713.0  2291.0  4691.0\n",
       "06          2.0   8.0   56.0  157.0  283.0   775.0  2307.0  4783.0\n",
       "07          1.0  13.0   37.0  133.0  295.0   890.0  2587.0  5377.0\n",
       "08          2.0  31.0   78.0  134.0  395.0  1203.0  2783.0  5719.0\n",
       "09          3.0  37.0  102.0  145.0  396.0  1504.0  3204.0   594.0\n",
       "10          6.0  59.0  150.0  186.0  548.0  1495.0  3651.0  3336.0\n",
       "11          3.0  25.0   90.0   89.0  316.0  1080.0  2126.0  3336.0\n",
       "12          2.0   6.0   24.0   59.0  179.0   480.0  1502.0  3336.0"
      ]
     },
     "execution_count": 283,
     "metadata": {},
     "output_type": "execute_result"
    }
   ],
   "source": [
    "reviews_per_yearmonth_pivot"
   ]
  },
  {
   "cell_type": "code",
   "execution_count": 328,
   "id": "6a71b8a8",
   "metadata": {},
   "outputs": [
    {
     "data": {
      "text/plain": [
       "([<matplotlib.axis.XTick at 0x24d28a42a30>,\n",
       "  <matplotlib.axis.XTick at 0x24d28a42a00>,\n",
       "  <matplotlib.axis.XTick at 0x24d287e03d0>,\n",
       "  <matplotlib.axis.XTick at 0x24d255d3a90>,\n",
       "  <matplotlib.axis.XTick at 0x24d255f4220>,\n",
       "  <matplotlib.axis.XTick at 0x24d255f4970>,\n",
       "  <matplotlib.axis.XTick at 0x24d255d3af0>,\n",
       "  <matplotlib.axis.XTick at 0x24d255f41c0>,\n",
       "  <matplotlib.axis.XTick at 0x24d28a31910>,\n",
       "  <matplotlib.axis.XTick at 0x24d287f6c70>,\n",
       "  <matplotlib.axis.XTick at 0x24d255dc070>,\n",
       "  <matplotlib.axis.XTick at 0x24d255dc700>,\n",
       "  <matplotlib.axis.XTick at 0x24d255dce50>],\n",
       " [Text(-2.0, 0, '11'),\n",
       "  Text(0.0, 0, '01'),\n",
       "  Text(2.0, 0, '03'),\n",
       "  Text(4.0, 0, '05'),\n",
       "  Text(6.0, 0, '07'),\n",
       "  Text(8.0, 0, '09'),\n",
       "  Text(10.0, 0, '11'),\n",
       "  Text(12.0, 0, ''),\n",
       "  Text(0, 0, ''),\n",
       "  Text(0, 0, ''),\n",
       "  Text(0, 0, ''),\n",
       "  Text(0, 0, ''),\n",
       "  Text(0, 0, '')])"
      ]
     },
     "execution_count": 328,
     "metadata": {},
     "output_type": "execute_result"
    },
    {
     "data": {
      "image/png": "[encoded data removed]",
      "text/plain": [
       "<Figure size 1224x720 with 1 Axes>"
      ]
     },
     "metadata": {
      "needs_background": "light"
     },
     "output_type": "display_data"
    }
   ],
   "source": [
    "#line chart\n",
    "\n",
    "reviews_per_yearmonth_pivot.plot(kind='line', figsize=(17, 10), marker='o')\n",
    "plt.title(\"Historical Count of reviews: Month by Month Comaprison\", y=1.013, fontsize=22)\n",
    "plt.xlabel(\"Date [Month]\", labelpad=16)\n",
    "plt.ylabel(\"Count [Reviews]\", labelpad=16)\n",
    "plt.xticks(np.arange(0, 13))"
   ]
  },
  {
   "cell_type": "code",
   "execution_count": 329,
   "id": "b0cb36f0",
   "metadata": {},
   "outputs": [
    {
     "data": {
      "image/png": "[encoded data removed]",
      "text/plain": [
       "<Figure size 720x792 with 2 Axes>"
      ]
     },
     "metadata": {
      "needs_background": "light"
     },
     "output_type": "display_data"
    }
   ],
   "source": [
    "#heat map\n",
    "\n",
    "figure, axes = plt.subplots(figsize=(10, 11))\n",
    "sns.heatmap(reviews_per_yearmonth_pivot, annot=True, linewidths=.5, ax=axes)\n",
    "axes.axes.set_title(\"Count of Reviews by Month and Year\", fontsize=20, y=1.01)\n",
    "axes.axes.set_ylabel(\"month\", labelpad=50, rotation=0)\n",
    "axes.axes.set_xlabel(\"year\", labelpad=16);\n",
    "plt.yticks(rotation=0);"
   ]
  },
  {
   "cell_type": "code",
   "execution_count": null,
   "id": "ab74bea6",
   "metadata": {},
   "outputs": [],
   "source": []
  },
  {
   "cell_type": "code",
   "execution_count": null,
   "id": "da2c6c7a",
   "metadata": {},
   "outputs": [],
   "source": []
  },
  {
   "cell_type": "code",
   "execution_count": null,
   "id": "2f9bc170",
   "metadata": {},
   "outputs": [],
   "source": []
  },
  {
   "cell_type": "code",
   "execution_count": 88,
   "id": "c24d2906",
   "metadata": {},
   "outputs": [],
   "source": [
    "# variation of the number of reviews per year\n",
    "reviews_per_property = pd.DataFrame(reviews.groupby(['year','month','yearmonth','listing_id'])['listing_id'].count())"
   ]
  },
  {
   "cell_type": "code",
   "execution_count": 83,
   "id": "5916c6e8",
   "metadata": {},
   "outputs": [
    {
     "data": {
      "text/plain": [
       "Index(['date', 'year', 'month', 'yearmonth', 'listing_id', 'abc'], dtype='object')"
      ]
     },
     "execution_count": 83,
     "metadata": {},
     "output_type": "execute_result"
    }
   ],
   "source": [
    "reviews_per_property.columns"
   ]
  },
  {
   "cell_type": "code",
   "execution_count": 80,
   "id": "15a85c3b",
   "metadata": {},
   "outputs": [],
   "source": [
    "reviews_per_property.rename(columns = {'listing_id': 'abc'}, inplace = True)\n"
   ]
  },
  {
   "cell_type": "code",
   "execution_count": 81,
   "id": "616836f4",
   "metadata": {},
   "outputs": [],
   "source": [
    "reviews_per_property.reset_index(inplace=True)"
   ]
  },
  {
   "cell_type": "code",
   "execution_count": 85,
   "id": "25e47712",
   "metadata": {},
   "outputs": [
    {
     "data": {
      "image/png": "[encoded data removed]",
      "text/plain": [
       "<Figure size 432x288 with 1 Axes>"
      ]
     },
     "metadata": {
      "needs_background": "light"
     },
     "output_type": "display_data"
    }
   ],
   "source": [
    "fig, ax = plt.subplots()\n",
    "ax.xaxis.set_minor_locator(mdates.MonthLocator())\n",
    "ax.xaxis.set_major_formatter(mdates.DateFormatter(\"%Y-%m\"))\n",
    "plt.plot(reviews_per_property['date'], reviews_per_property['abc'])\n",
    "plt.xticks(rotation=90)\n",
    "plt.show()"
   ]
  },
  {
   "cell_type": "code",
   "execution_count": null,
   "id": "62dbef7b",
   "metadata": {},
   "outputs": [],
   "source": [
    "# variation of number of reviews perpropety"
   ]
  },
  {
   "cell_type": "code",
   "execution_count": null,
   "id": "bb149b6a",
   "metadata": {},
   "outputs": [],
   "source": []
  },
  {
   "cell_type": "code",
   "execution_count": null,
   "id": "46a19fba",
   "metadata": {},
   "outputs": [],
   "source": []
  },
  {
   "cell_type": "code",
   "execution_count": null,
   "id": "8d795270",
   "metadata": {},
   "outputs": [],
   "source": []
  },
  {
   "cell_type": "code",
   "execution_count": null,
   "id": "45aa90b4",
   "metadata": {},
   "outputs": [],
   "source": []
  }
 ],
 "metadata": {
  "kernelspec": {
   "display_name": "Python 3 (ipykernel)",
   "language": "python",
   "name": "python3"
  },
  "language_info": {
   "codemirror_mode": {
    "name": "ipython",
    "version": 3
   },
   "file_extension": ".py",
   "mimetype": "text/x-python",
   "name": "python",
   "nbconvert_exporter": "python",
   "pygments_lexer": "ipython3",
   "version": "3.9.7"
  }
 },
 "nbformat": 4,
 "nbformat_minor": 5
}
